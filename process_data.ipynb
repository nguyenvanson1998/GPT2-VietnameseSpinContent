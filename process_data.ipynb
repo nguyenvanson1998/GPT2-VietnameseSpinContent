{
 "cells": [
  {
   "cell_type": "code",
   "execution_count": 1,
   "metadata": {},
   "outputs": [],
   "source": [
    "path = \"./description/description_\""
   ]
  },
  {
   "cell_type": "code",
   "execution_count": 39,
   "metadata": {},
   "outputs": [],
   "source": [
    "from tqdm.notebook import tqdm"
   ]
  },
  {
   "cell_type": "code",
   "execution_count": 2,
   "metadata": {},
   "outputs": [],
   "source": [
    "import json\n",
    "import os\n",
    "result = list()\n",
    "for i in range(0,3101):\n",
    "    file_path = path + str(i) +\".json\"\n",
    "    if os.path.exists(file_path):\n",
    "        with open(file_path, 'r', encoding='utf8') as infile:\n",
    "            result.extend(json.load(infile))\n",
    "\n",
    "# with open('des_all.json', 'w') as output_file:\n",
    "#     json.dump(result, output_file)"
   ]
  },
  {
   "cell_type": "code",
   "execution_count": 3,
   "metadata": {},
   "outputs": [
    {
     "data": {
      "text/plain": [
       "[{'category': 'Giày búp bê mũi tròn',\n",
       "  'name': 'GIẦY BÚP BÊ NỮ ALDO BRAYLYNN',\n",
       "  'brand': 'ALDO',\n",
       "  'description': 'thương hiệu thời trang aldo là hãng thời trang canada chuyên mang đến những thiết kế sang trọng và tinh tế về phụ kiện giầy dép và túi xách. aldo được phân phối độc quyền tại việt nam bởi công ty cổ phần nhà thái từ năm 2009. túi và phụ kiện aldo không có hộp và túi vải. cần hỗ trợ tư vấn, vui lòng inbox nhân viên cskh của aldo. '},\n",
       " {'category': 'Giày búp bê mũi nhọn',\n",
       "  'name': 'Giày búp bê nữ Aldo KOOSAFLEX',\n",
       "  'brand': 'ALDO',\n",
       "  'description': 'thương hiệu thời trang aldo là hãng thời trang canada chuyên mang đến những thiết kế sang trọng và tinh tế về phụ kiện giầy dép và túi xách. aldo được phân phối độc quyền tại việt nam bởi công ty cổ phần nhà thái từ năm 2009. túi và phụ kiện aldo không có hộp và túi vải. cần hỗ trợ tư vấn, vui lòng inbox nhân viên cskh của aldo. '},\n",
       " {'category': 'Giày búp bê mũi nhọn',\n",
       "  'name': 'JUNO Giày Búp Bê BB03083',\n",
       "  'brand': 'JUNO',\n",
       "  'description': 'kiểu dáng thời trang, thông dụng trong tất cả dịp sản phẩm sản xuất từ chất liệu cao cấp tạp độ bền cao'},\n",
       " {'category': 'Giày búp bê mũi tròn',\n",
       "  'name': 'Giày nhựa Thái Lan nữ mũi tròn búp bê màu trắng đi mưa đi biển dạo phố thời trang',\n",
       "  'brand': 'OEM',\n",
       "  'description': 'xuất xứ: thái lan nhóm màu: trắng kích thước size us: 5 6 7 8 sản phẩm thuộc phân khúc: giày nhựa nữ mũi tròn búp bê đi mưa đi biển dạo phố thời trang '},\n",
       " {'category': 'Root',\n",
       "  'name': 'Giày mũi nhọn Gót vuông Dily 5cm màu đen, kem',\n",
       "  'brand': 'OEM',\n",
       "  'description': 'kiểu dáng: giày sandal chất liệu da: da tổng hợp chất liệu đế: cao su chiều cao: 5cm màu sắc: đen, kem kích cỡ: 35-36-37-38-39 xuất xứ: việt nam queenstore chuyên cung cấp sỉ và lẻ hàng lẻ size của thương hiệu dily, lyno với giá cực kỳ hấp dẫn. giúp khách hàng có thêm nhũng sự lựa chọn tối ưu nhất khi mua sắm. shop k. ế bán hàng chính hãng, đảm bảo chất lượng. có đầy đủ hộp và tem mác của thương hiệu. hướng dẫn chọn size: chiều dài chân = size 22,5cm = 35 23cm = 36 23,5cm = 37 24cm = 38 24,5cm = 39 hướng dẫn bảo quản: - thường xuyên vệ sinh và khử mùi cho giày. - nên bỏ 1 cục giấy ăn hoặc giấy nháp không dùng tới vào trong giày để giữ form giày được lâu. - tránh để giày trực tiếp dưới ánh nắng mặt trời ảnh hưởng đến độ bền của da và keo. - không nên vệ sinh bằng xà phòng hay xà bông sẽ làm giảm tuổi thọ của giày. '}]"
      ]
     },
     "execution_count": 3,
     "metadata": {},
     "output_type": "execute_result"
    }
   ],
   "source": [
    "result[:5]"
   ]
  },
  {
   "cell_type": "code",
   "execution_count": 4,
   "metadata": {},
   "outputs": [
    {
     "data": {
      "text/plain": [
       "546957"
      ]
     },
     "execution_count": 4,
     "metadata": {},
     "output_type": "execute_result"
    }
   ],
   "source": [
    "len(result)"
   ]
  },
  {
   "cell_type": "code",
   "execution_count": 9,
   "metadata": {},
   "outputs": [
    {
     "ename": "KeyboardInterrupt",
     "evalue": "",
     "output_type": "error",
     "traceback": [
      "\u001b[0;31m---------------------------------------------------------------------------\u001b[0m",
      "\u001b[0;31mKeyboardInterrupt\u001b[0m                         Traceback (most recent call last)",
      "Cell \u001b[0;32mIn [9], line 3\u001b[0m\n\u001b[1;32m      1\u001b[0m \u001b[38;5;28;01mfor\u001b[39;00m des \u001b[38;5;129;01min\u001b[39;00m result:\n\u001b[1;32m      2\u001b[0m     \u001b[38;5;28;01mif\u001b[39;00m des[\u001b[38;5;124m'\u001b[39m\u001b[38;5;124mbrand\u001b[39m\u001b[38;5;124m'\u001b[39m] \u001b[38;5;241m==\u001b[39m \u001b[38;5;124m'\u001b[39m\u001b[38;5;124mOEM\u001b[39m\u001b[38;5;124m'\u001b[39m:\n\u001b[0;32m----> 3\u001b[0m         \u001b[43mresult\u001b[49m\u001b[38;5;241;43m.\u001b[39;49m\u001b[43mremove\u001b[49m\u001b[43m(\u001b[49m\u001b[43mdes\u001b[49m\u001b[43m)\u001b[49m\n",
      "\u001b[0;31mKeyboardInterrupt\u001b[0m: "
     ]
    }
   ],
   "source": [
    "# for des in result:\n",
    "#     if des['brand'] == 'OEM':\n",
    "#         result.remove(des)"
   ]
  },
  {
   "cell_type": "code",
   "execution_count": 5,
   "metadata": {},
   "outputs": [
    {
     "data": {
      "text/plain": [
       "546957"
      ]
     },
     "execution_count": 5,
     "metadata": {},
     "output_type": "execute_result"
    }
   ],
   "source": [
    "len(result)"
   ]
  },
  {
   "cell_type": "code",
   "execution_count": 16,
   "metadata": {},
   "outputs": [],
   "source": [
    "def check_digit(word):\n",
    "    digit = [str(i) for i in range(10)]\n",
    "    for i in digit:\n",
    "        if i in word:\n",
    "            return True \n",
    "    if word == 'digit':\n",
    "        return True\n",
    "    return False"
   ]
  },
  {
   "cell_type": "code",
   "execution_count": 6,
   "metadata": {},
   "outputs": [],
   "source": [
    "# import re\n",
    "# re_normalize_marks = re.compile(\n",
    "#             '(?P<special_mark>[\\-\\(\\)\\[\\]\\{\\};!?:“”\\\"\\'\\<\\>])')\n",
    "# re_full = re.compile(u'[^\\w\\s\\d…\\-–\\./_,\\(\\)$%“”\\\"\\'?!;:@#^&*\\+=<>\\[\\]\\{\\}²³áÁàÀãÃảẢạẠăĂắẮằẰẳẲặẶẵẴâÂấẤầẦẩẨậẬẫẪđĐéÉèÈẻẺẽẼẹẸêÊếẾềỀễỄểỂệỆíÍìÌỉỈĩĨịỊóÓòÒỏỎõÕọỌôÔốỐồỒổỔỗỖộỘơƠớỚờỜởỞỡỠợỢúÚùÙủỦũŨụỤưƯứỨừỪửỬữỮựỰýÝỳỲỷỶỹỸỵỴ]')\n",
    "# def normalize_special(text):\n",
    "#         s = re_normalize_marks.sub(' ', text)\n",
    "#         s = re_full.sub(' ', s)\n",
    "#         s = s.strip()\n",
    "#         return s"
   ]
  },
  {
   "cell_type": "code",
   "execution_count": 9,
   "metadata": {},
   "outputs": [],
   "source": [
    "# for des in result:\n",
    "#     des['name'] = normalize_special(des['name'])\n",
    "#     if len(des['name'].split()) >1 and check_digit(des['name'].split()[-1]):\n",
    "#         des['name'] = ' '.join(des['name'].split()[:-1])\n",
    "#         if  len(des['name'].split()) > 1 and des['name'].split()[-1].lower() == \"mã\":\n",
    "#             des['name'] = ' '.join(des['name'].split()[:-1])\n",
    "#     des['name'] = des['name'].strip()\n",
    "        "
   ]
  },
  {
   "cell_type": "code",
   "execution_count": 7,
   "metadata": {},
   "outputs": [
    {
     "data": {
      "text/plain": [
       "546957"
      ]
     },
     "execution_count": 7,
     "metadata": {},
     "output_type": "execute_result"
    }
   ],
   "source": [
    "# len(result)"
   ]
  },
  {
   "cell_type": "code",
   "execution_count": 8,
   "metadata": {},
   "outputs": [],
   "source": [
    "# with open('des_all.json', 'w') as output_file:\n",
    "#     json.dump(result, output_file)"
   ]
  },
  {
   "cell_type": "code",
   "execution_count": 16,
   "metadata": {},
   "outputs": [],
   "source": [
    "# result = list()\n",
    "# import json\n",
    "# with open('des_all.json', 'r', encoding='utf8') as infile:\n",
    "#     result.extend(json.load(infile))"
   ]
  },
  {
   "cell_type": "code",
   "execution_count": 17,
   "metadata": {},
   "outputs": [
    {
     "data": {
      "text/plain": [
       "395971"
      ]
     },
     "execution_count": 17,
     "metadata": {},
     "output_type": "execute_result"
    }
   ],
   "source": [
    "# len(result)"
   ]
  },
  {
   "cell_type": "code",
   "execution_count": 9,
   "metadata": {},
   "outputs": [],
   "source": [
    "data = {\"version\": \"0.0.1\",\n",
    "        \"data\": result}"
   ]
  },
  {
   "cell_type": "code",
   "execution_count": 10,
   "metadata": {},
   "outputs": [
    {
     "data": {
      "text/plain": [
       "[{'category': 'Giày búp bê mũi tròn',\n",
       "  'name': 'GIẦY BÚP BÊ NỮ ALDO BRAYLYNN',\n",
       "  'brand': 'ALDO',\n",
       "  'description': 'thương hiệu thời trang aldo là hãng thời trang canada chuyên mang đến những thiết kế sang trọng và tinh tế về phụ kiện giầy dép và túi xách. aldo được phân phối độc quyền tại việt nam bởi công ty cổ phần nhà thái từ năm 2009. túi và phụ kiện aldo không có hộp và túi vải. cần hỗ trợ tư vấn, vui lòng inbox nhân viên cskh của aldo. '},\n",
       " {'category': 'Giày búp bê mũi nhọn',\n",
       "  'name': 'Giày búp bê nữ Aldo KOOSAFLEX',\n",
       "  'brand': 'ALDO',\n",
       "  'description': 'thương hiệu thời trang aldo là hãng thời trang canada chuyên mang đến những thiết kế sang trọng và tinh tế về phụ kiện giầy dép và túi xách. aldo được phân phối độc quyền tại việt nam bởi công ty cổ phần nhà thái từ năm 2009. túi và phụ kiện aldo không có hộp và túi vải. cần hỗ trợ tư vấn, vui lòng inbox nhân viên cskh của aldo. '},\n",
       " {'category': 'Giày búp bê mũi nhọn',\n",
       "  'name': 'JUNO Giày Búp Bê BB03083',\n",
       "  'brand': 'JUNO',\n",
       "  'description': 'kiểu dáng thời trang, thông dụng trong tất cả dịp sản phẩm sản xuất từ chất liệu cao cấp tạp độ bền cao'},\n",
       " {'category': 'Giày búp bê mũi tròn',\n",
       "  'name': 'Giày nhựa Thái Lan nữ mũi tròn búp bê màu trắng đi mưa đi biển dạo phố thời trang',\n",
       "  'brand': 'OEM',\n",
       "  'description': 'xuất xứ: thái lan nhóm màu: trắng kích thước size us: 5 6 7 8 sản phẩm thuộc phân khúc: giày nhựa nữ mũi tròn búp bê đi mưa đi biển dạo phố thời trang '},\n",
       " {'category': 'Root',\n",
       "  'name': 'Giày mũi nhọn Gót vuông Dily 5cm màu đen, kem',\n",
       "  'brand': 'OEM',\n",
       "  'description': 'kiểu dáng: giày sandal chất liệu da: da tổng hợp chất liệu đế: cao su chiều cao: 5cm màu sắc: đen, kem kích cỡ: 35-36-37-38-39 xuất xứ: việt nam queenstore chuyên cung cấp sỉ và lẻ hàng lẻ size của thương hiệu dily, lyno với giá cực kỳ hấp dẫn. giúp khách hàng có thêm nhũng sự lựa chọn tối ưu nhất khi mua sắm. shop k. ế bán hàng chính hãng, đảm bảo chất lượng. có đầy đủ hộp và tem mác của thương hiệu. hướng dẫn chọn size: chiều dài chân = size 22,5cm = 35 23cm = 36 23,5cm = 37 24cm = 38 24,5cm = 39 hướng dẫn bảo quản: - thường xuyên vệ sinh và khử mùi cho giày. - nên bỏ 1 cục giấy ăn hoặc giấy nháp không dùng tới vào trong giày để giữ form giày được lâu. - tránh để giày trực tiếp dưới ánh nắng mặt trời ảnh hưởng đến độ bền của da và keo. - không nên vệ sinh bằng xà phòng hay xà bông sẽ làm giảm tuổi thọ của giày. '},\n",
       " {'category': 'Root',\n",
       "  'name': 'Giày mũi nhọn Gót vuông Dily 5cm màu đen, kem',\n",
       "  'brand': 'OEM',\n",
       "  'description': 'kiểu dáng: giày sandal chất liệu da: da tổng hợp chất liệu đế: cao su chiều cao: 5cm màu sắc: đen, kem kích cỡ: 35-36-37-38-39 xuất xứ: việt nam h3 shoes store chuyên cung cấp sỉ và lẻ hàng lẻ size của thương hiệu dily, lyno với giá cực kỳ hấp dẫn. giúp khách hàng có thêm những sự lựa chọn tối ưu nhất khi mua sắm. shop c. a. m k. ế. t bán hàng chính hãng, đảm bảo chất lượng. có đầy đủ hộp và tem mác của thương hiệu. hướng dẫn chọn size: chiều dài chân = size 22,5cm = 35 23cm = 36 23,5cm = 37 24cm = 38 24,5cm = 39 hướng dẫn bảo quản: - thường xuyên vệ sinh và khử mùi cho giày. - nên bỏ 1 cục giấy ăn hoặc giấy nháp không dùng tới vào trong giày để giữ form giày được lâu. - tránh để giày trực tiếp dưới ánh nắng mặt trời ảnh hưởng đến độ bền của da và keo. - không nên vệ sinh bằng xà phòng hay xà bông sẽ làm giảm tuổi thọ của giày. '},\n",
       " {'category': 'Giày búp bê mũi vuông',\n",
       "  'name': 'Giày Cao Gót Đế Vuông Mũi Vuông Quai Nhún 5P HAPAS - CG5580',\n",
       "  'brand': 'HAPAS',\n",
       "  'description': 'hapas túi xách – giày dép – phụ kiện thời trang nữ thông tin sản phẩm- đv mũi vuông quai nhún 5p- kiểu dáng sang trọng nhẹ nhàng - sản phẩm cao cấp 100% như hìnhbảng size giày giày nữ :size - chiều dài chân35 - 22,5cm36 - 23cm37 - 23,5cm38 - 24cm39 - 24,5cmhướng dẫn sử dụng- không giặt tẩy bằng các chất tẩy rửa mạnh, có thể dùng ( vỏ chuối, sữa tươi , giấ )- không ngâm nước quá lâu- với các sàn phẩm sáng màu, nên vệ sinh thường xuyên- tránh cất giữ giày khi còn ướt, ẩbảo hành và cskh- trong 30 ngày kể từ khi nhận được sản phẩm- nếu sản phẩm sai mẫu mã, bị lỗ, quý khách sẽ được miễn phí hoàn toàn cước đổi trả sản phẩm khác. - quý khách được đổi với sản phẩm mới ngang hoặc cao giá hơn- 1 sản phẩm, chỉ được đổi trả 1 lần duy nhất. chào bạn , cảm ơn bạn đã tin tưởng và ủng hộ hapas, hy vọng bạn sẽ tiếp tục có những trải nghiệm hài lòng đối với sản phẩm và đồng hành cùng hapas trong những đơn hàng kế tiếp ạ. . hãy follow gian hàng để nhận ngay nhiều ưu đãi bạn nhé'},\n",
       " {'category': 'Giày búp bê mũi tròn',\n",
       "  'name': 'Giày búp bê nữ Đông Hải thiết kế mũi tròn đính nơ sang trọng gót vuông thanh lịch cao 3cm - G85Q7',\n",
       "  'brand': 'ĐÔNG HẢI',\n",
       "  'description': 'giày búp bê nữ đông hải có phần mũi tròn tạo thêm không gian thông thoáng cho ngón chân không bị gò bó. g85q7 được đính nơ ở phần mũi làm nổi bật nét cách điệu riêng biệt cho đôi giày. phần gót vuông cao 3cm tạo nên sự vững chắc khi di chuyển. giày búp bê g85q7 tôn lên sự tự tin & quý phái của người phụ nữ hiện đại khi sài bước trong những buổi tiệc, shopping, cafe, mã sản phẩm: g85q7màu: đen & kemsize: 35 - 39 chất liệu: sicao: 3cm chính sách đổi trả bảo hành bảo hành miễn phí trong suốt thời gian sử dụng tại các cửa hàng đông hải trên toàn quốc đối với các trường hợp: bung keo, sứt chỉ, khô keo. đổi trả size trong vòng 07 ngày kể từ thời điểm nhận hàng tại các cửa hàng đông hải trên toàn quốc hoặc trả hàng trong vòng 07 ngày nếu lỗi do nhà bán hàng (sản phẩm không giống hình, sai miêu tả) với điều kiện sản phẩm còn mới 100% và nguyên vẹn, chưa qua sử dụng, còn nguyên tem, nhãn má lưu ý: đông hải không hỗ trợ đổi với các sản phẩm được hỗ trợ giá từ các chương trình ưu đãi '},\n",
       " {'category': 'Giày búp bê mũi tròn',\n",
       "  'name': 'Giày đốc-búp bê nữ nơ chữ xinh xắn',\n",
       "  'brand': 'OEM',\n",
       "  'description': 'giày đốc nữ da bóng phối nơ to chât liệu: da bóng cao cấp - màu: đen - size từ 35 -39 - lên chân cực chất và rất điệu đà - bảng size tham khảo cho quý khách khách lựa chọn: chân dài 22. 5 cm chọn size 35 chân dàu 23cm chọn size 36 chân dài 23. 5cm chọn size 37 chân dài 24cm chọn size 38 chân dài 24. 5 cm chọn 39 - dép chuẩn size chân nhé các bạn lưu ý - quý khách nhận được hàng nếu có thắc mắc cần giải đáp thì inbox trực tiếp bên shop xử lý quý khách hàng vui lòng chọn đúng size đúng màu sắc rồi đặt mua để tránh nhầm lẫn nhé'},\n",
       " {'category': 'Giày búp bê mũi nhọn',\n",
       "  'name': '[Ảnh Thật 100%] [FULLBOX] Giày Bệt Búp Bê Nữ Mũi Nhọn Khoét Eo Đính Đá - Hàng Quảng Châu',\n",
       "  'brand': 'OEM',\n",
       "  'description': ' hình ảnh sản phẩm đều do shop tự chụp nên các bạn mua hàng của shop cứ yên tâm nhé trong công việc cũng như trong cuộc sống các bạn không thể thiếu những đôi giày . nó giúp bảo vệ đôi chân và tôn vinh nét đẹp của các bạn. các sản phẩm được thiết kế đặc biệt với kiểu dáng vô cùng trẻ trung, năng động sẽ đem lại cho các bạn một trải nghiệm thật tuyệt vời khi đi lên chân. giày được thiết kế với kiểu dáng rất thuận tiện cho việc mang hàng ngày, đi chơi,ới màu sắc cơ bản đôi giày sẽ giúp người mang dễ dàng phối với các trang phục khác nhau như những bộ váy đầm, áo thun, quần jeans, chân váy, đủ để tạo nên phong cách năng động, khẳng định cá tính riêng. thông tin về sản phẩm: - tên sản phẩm: [ảnh thật 100%] [fullbox] giày bệt búp bê nữ mũi nhọn khoét eo đính đá - hàng quảng châu - kiểu dáng: giày búp bê bít mũi, mũi nhọn, đế bệt thật dễ thương, trẻ trung, cá tính - chất liệu: da lộn mang cực êm chân - size: 35, 36, 37, 38, 39 - màu sắc: da - xuất xứ: quảng châu vì hình ảnh là do bên shop tự chụp và không có qua photoshop nên có thể hình ảnh sẽ không được lung linh như ảnh trên mạng. do độ tương phản và ánh sáng làm cho màu sắc của sản phẩm sẽ chênh lệch 1 đến 2 tông màu. nhưng khi hàng đến tay các bạn rồi thì các bạn sẽ thấy được sản phẩm thật sẽ lung linh hơn hình shop chụp nhé. nên các bạn cứ yên tâm mà lựa chọn và mua hàng bên shop nhé. mô tả sản phẩm: -️ phần đế được làm bằng cao su chống trơn trợt. - phần đế thấp giúp cho người mang tự tin với mỗi bước đi và thuận tiện khi di chuyển. - kiểu dáng trẻ trung, sành điệu là những gì mà đôi giày đem lại cho phái nữ. với thiết kế đơn giản càng giúp cho các nàng tôn thêm nét duyên dáng, kiêu kì, vừa ngọt ngào vừa cá tính để các nàng tự tin với mỗi bước đi. điểm nhấn là phần khóa đính đá lập lánh cực xinh xắn, đáng yêu. -️ kiểu dáng ôm chân, thon gọn, thoải mái di chuyển. - giày thiết kế đơn giản, trẻ trung, năng động, nữ tính, phù hợp với mọi lứa tuổi. -️ thích hợp với mọi hoạt động: đi học,đi làm, dạo phố, sự kiện, đi hẹn hò, đi dự tiệc hướng dẫn bảo quản : - lau chùi sạch sẽ và cất gọn sau khi sử dụng - hạn chế tiếp xúc với nước - để nơi khô ráo, thoáng mát. '}]"
      ]
     },
     "execution_count": 10,
     "metadata": {},
     "output_type": "execute_result"
    }
   ],
   "source": [
    "data[\"data\"][:10]"
   ]
  },
  {
   "cell_type": "code",
   "execution_count": 11,
   "metadata": {},
   "outputs": [],
   "source": [
    "with open('des_all.json', 'w') as output_file:\n",
    "    json.dump(data, output_file)"
   ]
  },
  {
   "cell_type": "code",
   "execution_count": 13,
   "metadata": {},
   "outputs": [
    {
     "name": "stdout",
     "output_type": "stream",
     "text": [
      "Defaulting to user installation because normal site-packages is not writeable\n",
      "Collecting tqdm==4.64.1\n",
      "  Using cached tqdm-4.64.1-py2.py3-none-any.whl (78 kB)\n",
      "Installing collected packages: tqdm\n",
      "  Attempting uninstall: tqdm\n",
      "    Found existing installation: tqdm 4.62.1\n",
      "    Uninstalling tqdm-4.62.1:\n",
      "      Successfully uninstalled tqdm-4.62.1\n",
      "\u001b[33m  WARNING: The script tqdm is installed in '/home/thienchuaheadshot_gmail_com/.local/bin' which is not on PATH.\n",
      "  Consider adding this directory to PATH or, if you prefer to suppress this warning, use --no-warn-script-location.\u001b[0m\n",
      "Successfully installed tqdm-4.64.1\n",
      "\u001b[33mWARNING: You are using pip version 21.1.2; however, version 22.2.2 is available.\n",
      "You should consider upgrading via the '/usr/bin/python3 -m pip install --upgrade pip' command.\u001b[0m\n"
     ]
    }
   ],
   "source": [
    "!pip3 install tqdm==4.64.1"
   ]
  },
  {
   "cell_type": "code",
   "execution_count": 17,
   "metadata": {},
   "outputs": [
    {
     "name": "stdout",
     "output_type": "stream",
     "text": [
      "Defaulting to user installation because normal site-packages is not writeable\n",
      "Requirement already satisfied: ipywidgets in /usr/lib/python3/dist-packages (6.0.0)\n",
      "Collecting ipywidgets\n",
      "  Downloading ipywidgets-8.0.2-py3-none-any.whl (134 kB)\n",
      "\u001b[K     |████████████████████████████████| 134 kB 14.3 MB/s eta 0:00:01\n",
      "\u001b[?25hRequirement already satisfied: traitlets>=4.3.1 in /home/thienchuaheadshot_gmail_com/.local/lib/python3.8/site-packages (from ipywidgets) (5.3.0)\n",
      "Collecting jupyterlab-widgets~=3.0\n",
      "  Downloading jupyterlab_widgets-3.0.3-py3-none-any.whl (384 kB)\n",
      "\u001b[K     |████████████████████████████████| 384 kB 83.2 MB/s eta 0:00:01\n",
      "\u001b[?25hCollecting widgetsnbextension~=4.0\n",
      "  Downloading widgetsnbextension-4.0.3-py3-none-any.whl (2.0 MB)\n",
      "\u001b[K     |████████████████████████████████| 2.0 MB 79.7 MB/s eta 0:00:01\n",
      "\u001b[?25hRequirement already satisfied: ipython>=6.1.0 in /home/thienchuaheadshot_gmail_com/.local/lib/python3.8/site-packages (from ipywidgets) (8.5.0)\n",
      "Requirement already satisfied: ipykernel>=4.5.1 in /home/thienchuaheadshot_gmail_com/.local/lib/python3.8/site-packages (from ipywidgets) (6.15.2)\n",
      "Requirement already satisfied: psutil in /home/thienchuaheadshot_gmail_com/.local/lib/python3.8/site-packages (from ipykernel>=4.5.1->ipywidgets) (5.9.2)\n",
      "Requirement already satisfied: pyzmq>=17 in /home/thienchuaheadshot_gmail_com/.local/lib/python3.8/site-packages (from ipykernel>=4.5.1->ipywidgets) (23.2.1)\n",
      "Requirement already satisfied: tornado>=6.1 in /home/thienchuaheadshot_gmail_com/.local/lib/python3.8/site-packages (from ipykernel>=4.5.1->ipywidgets) (6.2)\n",
      "Requirement already satisfied: nest-asyncio in /home/thienchuaheadshot_gmail_com/.local/lib/python3.8/site-packages (from ipykernel>=4.5.1->ipywidgets) (1.5.5)\n",
      "Requirement already satisfied: matplotlib-inline>=0.1 in /home/thienchuaheadshot_gmail_com/.local/lib/python3.8/site-packages (from ipykernel>=4.5.1->ipywidgets) (0.1.6)\n",
      "Requirement already satisfied: packaging in /usr/local/lib/python3.8/dist-packages (from ipykernel>=4.5.1->ipywidgets) (20.9)\n",
      "Requirement already satisfied: jupyter-client>=6.1.12 in /home/thienchuaheadshot_gmail_com/.local/lib/python3.8/site-packages (from ipykernel>=4.5.1->ipywidgets) (7.3.5)\n",
      "Requirement already satisfied: debugpy>=1.0 in /home/thienchuaheadshot_gmail_com/.local/lib/python3.8/site-packages (from ipykernel>=4.5.1->ipywidgets) (1.6.3)\n",
      "Requirement already satisfied: prompt-toolkit<3.1.0,>3.0.1 in /home/thienchuaheadshot_gmail_com/.local/lib/python3.8/site-packages (from ipython>=6.1.0->ipywidgets) (3.0.31)\n",
      "Requirement already satisfied: decorator in /home/thienchuaheadshot_gmail_com/.local/lib/python3.8/site-packages (from ipython>=6.1.0->ipywidgets) (5.1.1)\n",
      "Requirement already satisfied: pickleshare in /home/thienchuaheadshot_gmail_com/.local/lib/python3.8/site-packages (from ipython>=6.1.0->ipywidgets) (0.7.5)\n",
      "Requirement already satisfied: jedi>=0.16 in /home/thienchuaheadshot_gmail_com/.local/lib/python3.8/site-packages (from ipython>=6.1.0->ipywidgets) (0.18.1)\n",
      "Requirement already satisfied: stack-data in /home/thienchuaheadshot_gmail_com/.local/lib/python3.8/site-packages (from ipython>=6.1.0->ipywidgets) (0.5.0)\n",
      "Requirement already satisfied: pexpect>4.3 in /usr/lib/python3/dist-packages (from ipython>=6.1.0->ipywidgets) (4.6.0)\n",
      "Requirement already satisfied: backcall in /home/thienchuaheadshot_gmail_com/.local/lib/python3.8/site-packages (from ipython>=6.1.0->ipywidgets) (0.2.0)\n",
      "Requirement already satisfied: pygments>=2.4.0 in /home/thienchuaheadshot_gmail_com/.local/lib/python3.8/site-packages (from ipython>=6.1.0->ipywidgets) (2.13.0)\n",
      "Requirement already satisfied: parso<0.9.0,>=0.8.0 in /home/thienchuaheadshot_gmail_com/.local/lib/python3.8/site-packages (from jedi>=0.16->ipython>=6.1.0->ipywidgets) (0.8.3)\n",
      "Requirement already satisfied: python-dateutil>=2.8.2 in /home/thienchuaheadshot_gmail_com/.local/lib/python3.8/site-packages (from jupyter-client>=6.1.12->ipykernel>=4.5.1->ipywidgets) (2.8.2)\n",
      "Requirement already satisfied: entrypoints in /usr/lib/python3/dist-packages (from jupyter-client>=6.1.12->ipykernel>=4.5.1->ipywidgets) (0.3)\n",
      "Requirement already satisfied: jupyter-core>=4.9.2 in /home/thienchuaheadshot_gmail_com/.local/lib/python3.8/site-packages (from jupyter-client>=6.1.12->ipykernel>=4.5.1->ipywidgets) (4.11.1)\n",
      "Requirement already satisfied: wcwidth in /home/thienchuaheadshot_gmail_com/.local/lib/python3.8/site-packages (from prompt-toolkit<3.1.0,>3.0.1->ipython>=6.1.0->ipywidgets) (0.2.5)\n",
      "Requirement already satisfied: six>=1.5 in /usr/local/lib/python3.8/dist-packages (from python-dateutil>=2.8.2->jupyter-client>=6.1.12->ipykernel>=4.5.1->ipywidgets) (1.16.0)\n",
      "Requirement already satisfied: pyparsing>=2.0.2 in /usr/local/lib/python3.8/dist-packages (from packaging->ipykernel>=4.5.1->ipywidgets) (2.4.7)\n",
      "Requirement already satisfied: pure-eval in /home/thienchuaheadshot_gmail_com/.local/lib/python3.8/site-packages (from stack-data->ipython>=6.1.0->ipywidgets) (0.2.2)\n",
      "Requirement already satisfied: asttokens in /home/thienchuaheadshot_gmail_com/.local/lib/python3.8/site-packages (from stack-data->ipython>=6.1.0->ipywidgets) (2.0.8)\n",
      "Requirement already satisfied: executing in /home/thienchuaheadshot_gmail_com/.local/lib/python3.8/site-packages (from stack-data->ipython>=6.1.0->ipywidgets) (1.0.0)\n",
      "Installing collected packages: widgetsnbextension, jupyterlab-widgets, ipywidgets\n",
      "Successfully installed ipywidgets-8.0.2 jupyterlab-widgets-3.0.3 widgetsnbextension-4.0.3\n",
      "\u001b[33mWARNING: You are using pip version 21.1.2; however, version 22.2.2 is available.\n",
      "You should consider upgrading via the '/usr/bin/python3 -m pip install --upgrade pip' command.\u001b[0m\n"
     ]
    }
   ],
   "source": [
    "!pip3 install --upgrade ipywidgets"
   ]
  },
  {
   "cell_type": "code",
   "execution_count": 1,
   "metadata": {},
   "outputs": [],
   "source": [
    "import accelerate\n",
    "import os\n",
    "os.environ[\"XRT_TPU_CONFIG\"] = \"localservice;0;localhost:51011\" \n",
    "os.environ['HF_DATASETS_CACHE'] = \"/home/temp/cache\""
   ]
  },
  {
   "cell_type": "code",
   "execution_count": 2,
   "metadata": {},
   "outputs": [
    {
     "name": "stderr",
     "output_type": "stream",
     "text": [
      "Using custom data configuration default-53bc1d1706d673ad\n"
     ]
    },
    {
     "name": "stdout",
     "output_type": "stream",
     "text": [
      "Downloading and preparing dataset json/default to /home/temp/cache/json/default-53bc1d1706d673ad/0.0.0/a3e658c4731e59120d44081ac10bf85dc7e1388126b92338344ce9661907f253...\n"
     ]
    },
    {
     "data": {
      "application/json": {
       "ascii": false,
       "bar_format": null,
       "colour": null,
       "elapsed": 0.018698453903198242,
       "initial": 0,
       "n": 0,
       "ncols": null,
       "nrows": 23,
       "postfix": null,
       "prefix": "Downloading data files",
       "rate": null,
       "total": 1,
       "unit": "it",
       "unit_divisor": 1000,
       "unit_scale": false
      },
      "application/vnd.jupyter.widget-view+json": {
       "model_id": "2a5467ff231443a2922e427e18d62fc5",
       "version_major": 2,
       "version_minor": 0
      },
      "text/plain": [
       "Downloading data files:   0%|          | 0/1 [00:00<?, ?it/s]"
      ]
     },
     "metadata": {},
     "output_type": "display_data"
    },
    {
     "data": {
      "application/json": {
       "ascii": false,
       "bar_format": null,
       "colour": null,
       "elapsed": 0.015252113342285156,
       "initial": 0,
       "n": 0,
       "ncols": null,
       "nrows": 23,
       "postfix": null,
       "prefix": "Extracting data files",
       "rate": null,
       "total": 1,
       "unit": "it",
       "unit_divisor": 1000,
       "unit_scale": false
      },
      "application/vnd.jupyter.widget-view+json": {
       "model_id": "bbae7989def343bbbb1886b0db0d66f8",
       "version_major": 2,
       "version_minor": 0
      },
      "text/plain": [
       "Extracting data files:   0%|          | 0/1 [00:00<?, ?it/s]"
      ]
     },
     "metadata": {},
     "output_type": "display_data"
    },
    {
     "data": {
      "application/json": {
       "ascii": false,
       "bar_format": null,
       "colour": null,
       "elapsed": 0.014223814010620117,
       "initial": 0,
       "n": 0,
       "ncols": null,
       "nrows": 23,
       "postfix": null,
       "prefix": "",
       "rate": null,
       "total": null,
       "unit": " tables",
       "unit_divisor": 1000,
       "unit_scale": false
      },
      "application/vnd.jupyter.widget-view+json": {
       "model_id": "8d8e3db583d44b13887d26607e987f4f",
       "version_major": 2,
       "version_minor": 0
      },
      "text/plain": [
       "0 tables [00:00, ? tables/s]"
      ]
     },
     "metadata": {},
     "output_type": "display_data"
    },
    {
     "name": "stderr",
     "output_type": "stream",
     "text": [
      "tcmalloc: large alloc 1212317696 bytes == 0x852a000 @  0x7fed7d327680 0x7fed7d348824 0x5fb391 0x64be71 0x5c6366 0x4f3b9e 0x651588 0x5c6730 0x5f7c07 0x6212ef 0x505a63 0x56bbfa 0x569dba 0x5f6eb3 0x570b26 0x501923 0x56be9c 0x501923 0x56be9c 0x501923 0x56be9c 0x5f6cd6 0x50bc2c 0x5f6082 0x56d2d5 0x569dba 0x5f6eb3 0x50bc2c 0x5f6082 0x56d2d5 0x569dba\n",
      "tcmalloc: large alloc 1212317696 bytes == 0x50952000 @  0x7fed7d327680 0x7fed7d348824 0x4f1b6a 0x674aa9 0x5c6730 0x570b26 0x569dba 0x5f6eb3 0x5f4cc1 0x5f57e0 0x51e1b2 0x62131a 0x505a63 0x56bbfa 0x569dba 0x5f6eb3 0x570b26 0x501923 0x56be9c 0x501923 0x56be9c 0x501923 0x56be9c 0x5f6cd6 0x50bc2c 0x5f6082 0x56d2d5 0x569dba 0x5f6eb3 0x50bc2c 0x5f6082\n"
     ]
    },
    {
     "name": "stdout",
     "output_type": "stream",
     "text": [
      "Dataset json downloaded and prepared to /home/temp/cache/json/default-53bc1d1706d673ad/0.0.0/a3e658c4731e59120d44081ac10bf85dc7e1388126b92338344ce9661907f253. Subsequent calls will reuse this data.\n"
     ]
    },
    {
     "data": {
      "application/json": {
       "ascii": false,
       "bar_format": null,
       "colour": null,
       "elapsed": 0.01346898078918457,
       "initial": 0,
       "n": 0,
       "ncols": null,
       "nrows": 23,
       "postfix": null,
       "prefix": "",
       "rate": null,
       "total": 1,
       "unit": "it",
       "unit_divisor": 1000,
       "unit_scale": false
      },
      "application/vnd.jupyter.widget-view+json": {
       "model_id": "98625c8c0ca24c4d9eebe08c33eb61be",
       "version_major": 2,
       "version_minor": 0
      },
      "text/plain": [
       "  0%|          | 0/1 [00:00<?, ?it/s]"
      ]
     },
     "metadata": {},
     "output_type": "display_data"
    }
   ],
   "source": [
    "from datasets import load_dataset\n",
    "dataset = load_dataset('json', data_files='./des_all.json', field='data',cache_dir= \"/home/temp/cache\")"
   ]
  },
  {
   "cell_type": "code",
   "execution_count": 3,
   "metadata": {},
   "outputs": [],
   "source": [
    "full_data = dataset['train']"
   ]
  },
  {
   "cell_type": "code",
   "execution_count": 9,
   "metadata": {},
   "outputs": [
    {
     "data": {
      "text/plain": [
       "{'category': 'Giày búp bê mũi tròn',\n",
       " 'name': 'GIẦY BÚP BÊ NỮ ALDO BRAYLYNN',\n",
       " 'brand': 'ALDO',\n",
       " 'description': 'thương hiệu thời trang aldo là hãng thời trang canada chuyên mang đến những thiết kế sang trọng và tinh tế về phụ kiện giầy dép và túi xách. aldo được phân phối độc quyền tại việt nam bởi công ty cổ phần nhà thái từ năm 2009. túi và phụ kiện aldo không có hộp và túi vải. cần hỗ trợ tư vấn, vui lòng inbox nhân viên cskh của aldo. ',\n",
       " 'id': 0}"
      ]
     },
     "execution_count": 9,
     "metadata": {},
     "output_type": "execute_result"
    }
   ],
   "source": [
    "full_data[0]"
   ]
  },
  {
   "cell_type": "code",
   "execution_count": 5,
   "metadata": {},
   "outputs": [],
   "source": [
    "idx = list(range(len(full_data)))"
   ]
  },
  {
   "cell_type": "code",
   "execution_count": 6,
   "metadata": {},
   "outputs": [],
   "source": [
    "full_data = full_data.add_column(\"id\", idx)"
   ]
  },
  {
   "cell_type": "code",
   "execution_count": 7,
   "metadata": {},
   "outputs": [
    {
     "data": {
      "text/plain": [
       "Dataset({\n",
       "    features: ['category', 'name', 'brand', 'description', 'id'],\n",
       "    num_rows: 546957\n",
       "})"
      ]
     },
     "execution_count": 7,
     "metadata": {},
     "output_type": "execute_result"
    }
   ],
   "source": [
    "full_data"
   ]
  },
  {
   "cell_type": "code",
   "execution_count": 8,
   "metadata": {},
   "outputs": [
    {
     "data": {
      "text/plain": [
       "{'category': 'Giày Đế xuồng nữ ',\n",
       " 'name': 'Dép Đế Xuồng 7cm Quai Đan Chéo Pixie X696',\n",
       " 'brand': 'PIXIE',\n",
       " 'description': 'dưới bàn tay của những nhà thiết kế yêu thời trang, pixie đã bức phá và tạo nên hình ảnh sống động cho một thiết kế dép đế xuồng cao gót 7cm xỏ ngón thời thượng nhưng không kém phần tiện dụng. sự thoải mái, linh hoạt kết hợp với thiết duyên dáng, nữ tính của dép đế xuồng cho phép phái đẹp có thể tự do biến hóa trang phục của mình mà vẫn giữ được nét tinh tế, nhẹ nhàng của mình. thông tin sản phẩm mã sản phẩm: x696 chất liệu: pu cao cấp chiều cao: 7cm màu sắc: đen, xám, nâu size: 35, 36, 37, 38, 39 hướng dẫn bảo quản: - bạn nên thường xuyên vệ sinh giày để giúp đôi giày luôn mới và tăng tuổi thọ của giày. khi giày bị bẩn chỉ cần dùng vải ẩm mềm lau nhẹ nhàng bề mặt da, không nên rửa bằng nước và dùng vật cứng, điều này sẽ khiến lớp da giày dễ bị bong tróc. ',\n",
       " 'id': 10}"
      ]
     },
     "execution_count": 8,
     "metadata": {},
     "output_type": "execute_result"
    }
   ],
   "source": [
    "full_data[10]"
   ]
  },
  {
   "cell_type": "code",
   "execution_count": 10,
   "metadata": {},
   "outputs": [],
   "source": [
    "import re\n",
    "re_normalize_marks = re.compile(\n",
    "            '(?P<special_mark>[\\-\\(\\)\\[\\]\\{\\};!?:“”\\\"\\'\\<\\>])')\n",
    "re_full = re.compile(u'[^\\w\\s\\d…\\-–\\./_,\\(\\)$%“”\\\"\\'?!;:@#^&*\\+=<>\\[\\]\\{\\}²³áÁàÀãÃảẢạẠăĂắẮằẰẳẲặẶẵẴâÂấẤầẦẩẨậẬẫẪđĐéÉèÈẻẺẽẼẹẸêÊếẾềỀễỄểỂệỆíÍìÌỉỈĩĨịỊóÓòÒỏỎõÕọỌôÔốỐồỒổỔỗỖộỘơƠớỚờỜởỞỡỠợỢúÚùÙủỦũŨụỤưƯứỨừỪửỬữỮựỰýÝỳỲỷỶỹỸỵỴ]')\n",
    "def normalize_special(text):\n",
    "        s = re_normalize_marks.sub(' ', text)\n",
    "        s = re_full.sub(' ', s)\n",
    "        s = s.strip()\n",
    "        return s"
   ]
  },
  {
   "cell_type": "code",
   "execution_count": 11,
   "metadata": {},
   "outputs": [
    {
     "data": {
      "application/json": {
       "ascii": false,
       "bar_format": null,
       "colour": null,
       "elapsed": 0.013388395309448242,
       "initial": 0,
       "n": 0,
       "ncols": null,
       "nrows": 23,
       "postfix": null,
       "prefix": "",
       "rate": null,
       "total": 547,
       "unit": "ba",
       "unit_divisor": 1000,
       "unit_scale": false
      },
      "application/vnd.jupyter.widget-view+json": {
       "model_id": "e5d7073ee1e7445bb5e939b95ae06bf9",
       "version_major": 2,
       "version_minor": 0
      },
      "text/plain": [
       "  0%|          | 0/547 [00:00<?, ?ba/s]"
      ]
     },
     "metadata": {},
     "output_type": "display_data"
    }
   ],
   "source": [
    "full_data = full_data.filter(lambda x: x[\"brand\"] != 'OEM')"
   ]
  },
  {
   "cell_type": "code",
   "execution_count": 17,
   "metadata": {},
   "outputs": [],
   "source": [
    "def norm_data_set(text):\n",
    "        text['name'] = normalize_special(text['name'])\n",
    "        if len(text['name'].split()) >1 and check_digit(text['name'].split()[-1]):\n",
    "            text['name'] = ' '.join(text['name'].split()[:-1])\n",
    "        if  len(text['name'].split()) > 1 and text['name'].split()[-1].lower() == \"mã\":\n",
    "            text['name'] = ' '.join(text['name'].split()[:-1])\n",
    "        text['name'] = text['name'].strip()\n",
    "        text['description'] = re_normalize_marks.sub(' ', text['description'])\n",
    "        text['description'] = re_full.sub(' ', text['description'])\n",
    "        text['description'] = text['description'].strip()\n",
    "        text['description'] = re.sub(' +', ' ',  text['description'])\n",
    "        return text"
   ]
  },
  {
   "cell_type": "code",
   "execution_count": 18,
   "metadata": {},
   "outputs": [
    {
     "data": {
      "application/json": {
       "ascii": false,
       "bar_format": null,
       "colour": null,
       "elapsed": 0.014581918716430664,
       "initial": 0,
       "n": 0,
       "ncols": null,
       "nrows": 23,
       "postfix": null,
       "prefix": "",
       "rate": null,
       "total": 240209,
       "unit": "ex",
       "unit_divisor": 1000,
       "unit_scale": false
      },
      "application/vnd.jupyter.widget-view+json": {
       "model_id": "dd146b0cc1be4a679a9dfb904018ca0e",
       "version_major": 2,
       "version_minor": 0
      },
      "text/plain": [
       "  0%|          | 0/240209 [00:00<?, ?ex/s]"
      ]
     },
     "metadata": {},
     "output_type": "display_data"
    }
   ],
   "source": [
    "full_data1 = full_data.map(norm_data_set)"
   ]
  },
  {
   "cell_type": "code",
   "execution_count": 19,
   "metadata": {
    "scrolled": true
   },
   "outputs": [
    {
     "data": {
      "text/plain": [
       "{'category': ['Giày búp bê mũi tròn',\n",
       "  'Giày búp bê mũi nhọn',\n",
       "  'Giày búp bê mũi nhọn',\n",
       "  'Giày búp bê mũi vuông',\n",
       "  'Giày búp bê mũi tròn',\n",
       "  'Giày Đế xuồng nữ ',\n",
       "  'Giày - Dép nữ',\n",
       "  'Giày sandals buộc dây',\n",
       "  'Giày sandals đế bằng',\n",
       "  'Giày sandals đế bằng'],\n",
       " 'name': ['GIẦY BÚP BÊ NỮ ALDO BRAYLYNN',\n",
       "  'Giày búp bê nữ Aldo KOOSAFLEX',\n",
       "  'JUNO Giày Búp Bê',\n",
       "  'Giày Cao Gót Đế Vuông Mũi Vuông Quai Nhún 5P HAPAS',\n",
       "  'Giày búp bê nữ Đông Hải thiết kế mũi tròn đính nơ sang trọng gót vuông thanh lịch cao 3cm',\n",
       "  'Dép Đế Xuồng 7cm Quai Đan Chéo Pixie',\n",
       "  'Sandal nữ da bò cao cấp HT.NeO sdn94 gót trụ cao 3p cực kỳ dễ đi , sang trọng lịch lãm phù hợp với chị em công sở',\n",
       "  'Dép nữ da bò cao cấp HT.NeO sdn94 gót trụ cao 3p cực kỳ dễ đi , sang trọng lịch lãm phù hợp với chị em công sở',\n",
       "  'Sandal nữ Teva Hurricane Xlt 2',\n",
       "  'Sandal nữ Teva Flatform Universal'],\n",
       " 'brand': ['ALDO',\n",
       "  'ALDO',\n",
       "  'JUNO',\n",
       "  'HAPAS',\n",
       "  'ĐÔNG HẢI',\n",
       "  'PIXIE',\n",
       "  'HT.NEO',\n",
       "  'HT.NEO',\n",
       "  'TEVA',\n",
       "  'TEVA'],\n",
       " 'description': ['thương hiệu thời trang aldo là hãng thời trang canada chuyên mang đến những thiết kế sang trọng và tinh tế về phụ kiện giầy dép và túi xách. aldo được phân phối độc quyền tại việt nam bởi công ty cổ phần nhà thái từ năm 2009. túi và phụ kiện aldo không có hộp và túi vải. cần hỗ trợ tư vấn, vui lòng inbox nhân viên cskh của aldo.',\n",
       "  'thương hiệu thời trang aldo là hãng thời trang canada chuyên mang đến những thiết kế sang trọng và tinh tế về phụ kiện giầy dép và túi xách. aldo được phân phối độc quyền tại việt nam bởi công ty cổ phần nhà thái từ năm 2009. túi và phụ kiện aldo không có hộp và túi vải. cần hỗ trợ tư vấn, vui lòng inbox nhân viên cskh của aldo.',\n",
       "  'kiểu dáng thời trang, thông dụng trong tất cả dịp sản phẩm sản xuất từ chất liệu cao cấp tạp độ bền cao',\n",
       "  'hapas túi xách – giày dép – phụ kiện thời trang nữ thông tin sản phẩm đv mũi vuông quai nhún 5p kiểu dáng sang trọng nhẹ nhàng sản phẩm cao cấp 100% như hìnhbảng size giày giày nữ size chiều dài chân35 22,5cm36 23cm37 23,5cm38 24cm39 24,5cmhướng dẫn sử dụng không giặt tẩy bằng các chất tẩy rửa mạnh, có thể dùng vỏ chuối, sữa tươi , giấ không ngâm nước quá lâu với các sàn phẩm sáng màu, nên vệ sinh thường xuyên tránh cất giữ giày khi còn ướt, ẩbảo hành và cskh trong 30 ngày kể từ khi nhận được sản phẩm nếu sản phẩm sai mẫu mã, bị lỗ, quý khách sẽ được miễn phí hoàn toàn cước đổi trả sản phẩm khác. quý khách được đổi với sản phẩm mới ngang hoặc cao giá hơn 1 sản phẩm, chỉ được đổi trả 1 lần duy nhất. chào bạn , cảm ơn bạn đã tin tưởng và ủng hộ hapas, hy vọng bạn sẽ tiếp tục có những trải nghiệm hài lòng đối với sản phẩm và đồng hành cùng hapas trong những đơn hàng kế tiếp ạ. . hãy follow gian hàng để nhận ngay nhiều ưu đãi bạn nhé',\n",
       "  'giày búp bê nữ đông hải có phần mũi tròn tạo thêm không gian thông thoáng cho ngón chân không bị gò bó. g85q7 được đính nơ ở phần mũi làm nổi bật nét cách điệu riêng biệt cho đôi giày. phần gót vuông cao 3cm tạo nên sự vững chắc khi di chuyển. giày búp bê g85q7 tôn lên sự tự tin & quý phái của người phụ nữ hiện đại khi sài bước trong những buổi tiệc, shopping, cafe, mã sản phẩm g85q7màu đen & kemsize 35 39 chất liệu sicao 3cm chính sách đổi trả bảo hành bảo hành miễn phí trong suốt thời gian sử dụng tại các cửa hàng đông hải trên toàn quốc đối với các trường hợp bung keo, sứt chỉ, khô keo. đổi trả size trong vòng 07 ngày kể từ thời điểm nhận hàng tại các cửa hàng đông hải trên toàn quốc hoặc trả hàng trong vòng 07 ngày nếu lỗi do nhà bán hàng sản phẩm không giống hình, sai miêu tả với điều kiện sản phẩm còn mới 100% và nguyên vẹn, chưa qua sử dụng, còn nguyên tem, nhãn má lưu ý đông hải không hỗ trợ đổi với các sản phẩm được hỗ trợ giá từ các chương trình ưu đãi',\n",
       "  'dưới bàn tay của những nhà thiết kế yêu thời trang, pixie đã bức phá và tạo nên hình ảnh sống động cho một thiết kế dép đế xuồng cao gót 7cm xỏ ngón thời thượng nhưng không kém phần tiện dụng. sự thoải mái, linh hoạt kết hợp với thiết duyên dáng, nữ tính của dép đế xuồng cho phép phái đẹp có thể tự do biến hóa trang phục của mình mà vẫn giữ được nét tinh tế, nhẹ nhàng của mình. thông tin sản phẩm mã sản phẩm x696 chất liệu pu cao cấp chiều cao 7cm màu sắc đen, xám, nâu size 35, 36, 37, 38, 39 hướng dẫn bảo quản bạn nên thường xuyên vệ sinh giày để giúp đôi giày luôn mới và tăng tuổi thọ của giày. khi giày bị bẩn chỉ cần dùng vải ẩm mềm lau nhẹ nhàng bề mặt da, không nên rửa bằng nước và dùng vật cứng, điều này sẽ khiến lớp da giày dễ bị bong tróc.',\n",
       "  'ht. neo nơi duy nhất cam kết đổi trả đến khi vừa ý sandal nữ da bò cao cấp cao 3p ht. neo chất liệu da bò cao cấp, họa tiết quai trẻ trung màu sản phẩm đen, kem, nâu chiều cao gót 3cm kiểu dáng phù hợp với phom dáng của phụ nữ việt nam thời trang giày đi làm, đi chơi, du lịch, dự tiệc, dạo phố đặc điểm nổi bật của sản phẩm nâng ngay 3cm chiều cao da bò nguyên miếng cao cấp, da mềm, lót da êm và mát chân. phom dáng chuẩn, nâng dáng cực tốt, dáng trẻ trung, nhẹ nhàng và thanh lịch đế vuông chắc chắn chông trơn trượt chất lượng tốt nhất cho người phụ nữ đẹp nhất hình ảnh chân thật của sản phẩm',\n",
       "  'ht. neo nơi duy nhất cam kết đổi trả đến khi vừa ý sandal nữ da bò cao cấp cao 3p ht. neo chất liệu da bò cao cấp, họa tiết quai trẻ trung màu sản phẩm đen, kem, nâu chiều cao gót 3cm kiểu dáng phù hợp với phom dáng của phụ nữ việt nam thời trang giày đi làm, đi chơi, du lịch, dự tiệc, dạo phố đặc điểm nổi bật của sản phẩm nâng ngay 3cm chiều cao da bò nguyên miếng cao cấp, da mềm, lót da êm và mát chân. phom dáng chuẩn, nâng dáng cực tốt, dáng trẻ trung, nhẹ nhàng và thanh lịch đế vuông chắc chắn chông trơn trượt chất lượng tốt nhất cho người phụ nữ đẹp nhất hình ảnh chân thật của sản phẩm',\n",
       "  'sandal nữ teva hurricane xlt 2 1019235 bản nâng cấp mới của hurricane xlt, hurricane xlt2 hoàn toàn mới mẻ, được trang bị đệm lót gót chân mềm mại thoải mái, cái tiến với lớp đế hiện đại, có khả năng bám đường tốt hơn bao giờ hết. hoàn thiện với dây quai bằng polyester tái chế của unifi. thông số quai giày được làm từ sợi polyester repreve nhựa tái chế được kiểm chứng bởi unifi thân thiện với trái đất, mỗi đôi giày này sẽ giúp tiết kiệm được 4 chai nhựa không bị thải ra môi trường. thuộc dòng sản phẩm vegan, được làm từ vật liệu tổng hợp và thực vật. dây quai vừa vặn, dễ dàng cài vào và tháo ra. đế giữa eva hỗ trợ vòm chân và phần gót được thoải mái. đế ngoài làm bằng cao su với độ bền bỉ cao, hỗ trợ lực kéo. công nghệ microban giúp xử lý mùi từ mồ hôi. phù hợp mang hàng ngày, dạo phố, và đi bộ đường dài. mã sản phẩm 1019235 thông tin sản phẩm chất liệu chất vải lưới được làm từ sợi polyester repreve nơi sản xuất việt nam hướng dẫn bảo quản hạn chế không nên để giày tiếp xúc nhiều với chất bẩn, đặc biệt là các chất bẩn cứng đầu như cà phê, trà, nhựa trái cây bảo quản giày ở nơi khô ráo, thoáng mát nếu không sử dụng thường xuyên thì nên bỏ giày vào bao ni lông bịt kín hoặc hộp đựng giày không nên phơi giày dưới nắng quá gắt. thông tin thương hiệu đôi teva đầu tiên xuất hiện lần đầu tại bờ biển grand canyon năm 1984. ra đời khi một người dẫn đường vượt sông đã tháo vát buộc hai dây đồng hồ velcro vào một đôi dép xỏ ngón cũ để ngăn đôi dép bị tuột và trôi xuống hạ lưu. và cứ thế, teva ra đời. trong những năm tiếp theo, teva vẫn giữ nguyên được tinh thần tiên phong và tiếp tục phát triển để tôn vinh sự khám phá, tự do. bắt đầu từ năm 2020, tất cả quai giày của teva đều được làm từ nhựa tái chế có truy xuất nguồn gốc, có thể kiểm chứng bởi unifi. thông tin nhà phân phối supersports là hệ thống bán lẻ phân phối các mặt hàng về thể thao tại thái lan và là hệ thống thuộc tập đoàn central retail. supersports mang đến rất nhiều lựa chọn về giày dép và quần áo, máy tập thể dục và phụ kiện thể thao từ các thương hiệu nổi tiếng như crocs, new balance, fila, skechers, speedo. supersports tự hào mang đến sản phẩm chất lượng tốt. khi mua hàng chính hãng supersports trên sàn thương mại điện tử 100% sản phẩm bạn nhận được là hàng thật, hàng chính hãng với chất lượng tương đương khi mua tại các cửa hàng chính hãng. bạn sẽ được trải nghiệm phương thức mua sắm đơn giản, chi phí hợp lý, hỗ trợ giao hàng tận nơi, tỷ lệ phản hồi chat nhanh, chính sách hoàn trả sản phẩm và rất nhiều chính sách ưu việt khác từ sàn.',\n",
       "  'sandal nữ teva flatform universal 1008844 flatform universal đưa universal biểu tượng của chúng tôi lên một tầm cao mới. dây quai được làm bằng polyester tái chế unifi thân thiện với trái đất, thể hiện tuyên bố của chúng tôi trong việc bảo vệ môi trường khỏi rác thải nhựa. thông số quai giày được làm từ sợi polyester repreve nhựa tái chế được kiểm chứng bởi unifi thân thiện với trái đất, mỗi đôi giày này sẽ giúp tiết kiệm được 4 chai nhựa không bị thải ra môi trường. thuộc dòng sản phẩm vegan, được làm từ vật liệu tổng hợp và thực vật. dây quai vừa vặn, dễ dàng cài vào và tháo ra. đế giữa eva hỗ trợ vòm chân và phần gót được thoải mái. đế ngoài làm bằng cao su với độ bền bỉ cao, hỗ trợ lực kéo. công nghệ microban giúp xử lý mùi từ mồ hôi. phù hợp mang hàng ngày, dạo phố, trong các buổi lễ hội. mã sản phẩm 1008844 ltml thông tin sản xuất chất liệu chất vải lưới được làm từ sợi polyester repreve nơi sản xuất trung quốc hướng dẫn bảo quản hạn chế không nên để giày tiếp xúc nhiều với chất bẩn, đặc biệt là các chất bẩn cứng đầu như cà phê, trà, nhựa trái cây bảo quản giày ở nơi khô ráo, thoáng mát nếu không sử dụng thường xuyên thì nên bỏ giày vào bao ni lông bịt kín hoặc hộp đựng giày không nên phơi giày dưới nắng quá gắt. thông tin thương hiệu đôi teva đầu tiên xuất hiện lần đầu tại bờ biển grand canyon năm 1984. ra đời khi một người dẫn đường vượt sông đã tháo vát buộc hai dây đồng hồ velcro vào một đôi dép xỏ ngón cũ để ngăn đôi dép bị tuột và trôi xuống hạ lưu. và cứ thế, teva ra đời. trong những năm tiếp theo, teva vẫn giữ nguyên được tinh thần tiên phong và tiếp tục phát triển để tôn vinh sự khám phá, tự do. bắt đầu từ năm 2020, tất cả quai giày của teva đều được làm từ nhựa tái chế có truy xuất nguồn gốc, có thể kiểm chứng bởi unifi. thông tin nhà phân phối supersports là hệ thống bán lẻ phân phối các mặt hàng về thể thao tại thái lan và là hệ thống thuộc tập đoàn central retail. supersports mang đến rất nhiều lựa chọn về giày dép và quần áo, máy tập thể dục và phụ kiện thể thao từ các thương hiệu nổi tiếng như crocs, new balance, fila, skechers, speedo. supersports tự hào mang đến sản phẩm chất lượng tốt. lợi ích khi mua hàng chính hãng supersports trên sàn thương mại điện tử 100% sản phẩm bạn nhận được là hàng thật, hàng chính hãng với chất lượng tương đương khi mua tại các cửa hàng chính hãng. bạn sẽ được trải nghiệm phương thức mua sắm đơn giản, chi phí hợp lý, hỗ trợ giao hàng tận nơi, tỷ lệ phản hồi chat nhanh, chính sách hoàn trả sản phẩm và rất nhiều chính sách ưu việt khác từ sàn.'],\n",
       " 'id': [0, 1, 2, 6, 7, 10, 11, 12, 13, 14]}"
      ]
     },
     "execution_count": 19,
     "metadata": {},
     "output_type": "execute_result"
    }
   ],
   "source": [
    "full_data1[:10]"
   ]
  },
  {
   "cell_type": "code",
   "execution_count": 20,
   "metadata": {},
   "outputs": [],
   "source": [
    "# full_data1.save_to_disk(\"/home/thienchuaheadshot_gmail_com/spin_content/data_to_dedup\")"
   ]
  },
  {
   "cell_type": "code",
   "execution_count": 21,
   "metadata": {},
   "outputs": [],
   "source": [
    "full_data1 = full_data1.rename_column('description', 'text')"
   ]
  },
  {
   "cell_type": "code",
   "execution_count": 22,
   "metadata": {},
   "outputs": [
    {
     "data": {
      "text/plain": [
       "{'category': 'Giày búp bê mũi tròn',\n",
       " 'name': 'GIẦY BÚP BÊ NỮ ALDO BRAYLYNN',\n",
       " 'brand': 'ALDO',\n",
       " 'text': 'thương hiệu thời trang aldo là hãng thời trang canada chuyên mang đến những thiết kế sang trọng và tinh tế về phụ kiện giầy dép và túi xách. aldo được phân phối độc quyền tại việt nam bởi công ty cổ phần nhà thái từ năm 2009. túi và phụ kiện aldo không có hộp và túi vải. cần hỗ trợ tư vấn, vui lòng inbox nhân viên cskh của aldo.',\n",
       " 'id': 0}"
      ]
     },
     "execution_count": 22,
     "metadata": {},
     "output_type": "execute_result"
    }
   ],
   "source": [
    "full_data1[0]"
   ]
  },
  {
   "cell_type": "code",
   "execution_count": 23,
   "metadata": {},
   "outputs": [],
   "source": [
    "full_data1.save_to_disk(\"/home/thienchuaheadshot_gmail_com/spin_content/data_to_dedup\")"
   ]
  },
  {
   "cell_type": "markdown",
   "metadata": {},
   "source": [
    "## Lọc trùng"
   ]
  },
  {
   "cell_type": "code",
   "execution_count": 24,
   "metadata": {},
   "outputs": [],
   "source": [
    "import pandas as pd\n",
    "\n",
    "\n",
    "df = pd.read_csv(\"/home/thienchuaheadshot_gmail_com/spin_content/cache/vi/clusters.tsv\",delimiter=\"\\t\", header = 0, encoding=\"utf8\")"
   ]
  },
  {
   "cell_type": "code",
   "execution_count": 25,
   "metadata": {},
   "outputs": [],
   "source": [
    "df1 = df[df['cluster'] == -1]"
   ]
  },
  {
   "cell_type": "code",
   "execution_count": 26,
   "metadata": {},
   "outputs": [
    {
     "data": {
      "text/html": [
       "<div>\n",
       "<style scoped>\n",
       "    .dataframe tbody tr th:only-of-type {\n",
       "        vertical-align: middle;\n",
       "    }\n",
       "\n",
       "    .dataframe tbody tr th {\n",
       "        vertical-align: top;\n",
       "    }\n",
       "\n",
       "    .dataframe thead th {\n",
       "        text-align: right;\n",
       "    }\n",
       "</style>\n",
       "<table border=\"1\" class=\"dataframe\">\n",
       "  <thead>\n",
       "    <tr style=\"text-align: right;\">\n",
       "      <th></th>\n",
       "      <th>id</th>\n",
       "      <th>hash</th>\n",
       "      <th>cluster</th>\n",
       "    </tr>\n",
       "  </thead>\n",
       "  <tbody>\n",
       "    <tr>\n",
       "      <th>2</th>\n",
       "      <td>2</td>\n",
       "      <td>7721231968423415219</td>\n",
       "      <td>-1</td>\n",
       "    </tr>\n",
       "    <tr>\n",
       "      <th>4</th>\n",
       "      <td>7</td>\n",
       "      <td>14022343723076303202</td>\n",
       "      <td>-1</td>\n",
       "    </tr>\n",
       "    <tr>\n",
       "      <th>5</th>\n",
       "      <td>10</td>\n",
       "      <td>9632936985270460706</td>\n",
       "      <td>-1</td>\n",
       "    </tr>\n",
       "    <tr>\n",
       "      <th>6</th>\n",
       "      <td>11</td>\n",
       "      <td>7950525315179458789</td>\n",
       "      <td>-1</td>\n",
       "    </tr>\n",
       "    <tr>\n",
       "      <th>7</th>\n",
       "      <td>12</td>\n",
       "      <td>7950525315179458789</td>\n",
       "      <td>-1</td>\n",
       "    </tr>\n",
       "    <tr>\n",
       "      <th>...</th>\n",
       "      <td>...</td>\n",
       "      <td>...</td>\n",
       "      <td>...</td>\n",
       "    </tr>\n",
       "    <tr>\n",
       "      <th>240201</th>\n",
       "      <td>546948</td>\n",
       "      <td>6170707724251200539</td>\n",
       "      <td>-1</td>\n",
       "    </tr>\n",
       "    <tr>\n",
       "      <th>240203</th>\n",
       "      <td>546950</td>\n",
       "      <td>17952183234639205366</td>\n",
       "      <td>-1</td>\n",
       "    </tr>\n",
       "    <tr>\n",
       "      <th>240204</th>\n",
       "      <td>546951</td>\n",
       "      <td>986988724056288769</td>\n",
       "      <td>-1</td>\n",
       "    </tr>\n",
       "    <tr>\n",
       "      <th>240206</th>\n",
       "      <td>546954</td>\n",
       "      <td>7169189627365962372</td>\n",
       "      <td>-1</td>\n",
       "    </tr>\n",
       "    <tr>\n",
       "      <th>240207</th>\n",
       "      <td>546955</td>\n",
       "      <td>11283289096796618043</td>\n",
       "      <td>-1</td>\n",
       "    </tr>\n",
       "  </tbody>\n",
       "</table>\n",
       "<p>142662 rows × 3 columns</p>\n",
       "</div>"
      ],
      "text/plain": [
       "            id                  hash  cluster\n",
       "2            2   7721231968423415219       -1\n",
       "4            7  14022343723076303202       -1\n",
       "5           10   9632936985270460706       -1\n",
       "6           11   7950525315179458789       -1\n",
       "7           12   7950525315179458789       -1\n",
       "...        ...                   ...      ...\n",
       "240201  546948   6170707724251200539       -1\n",
       "240203  546950  17952183234639205366       -1\n",
       "240204  546951    986988724056288769       -1\n",
       "240206  546954   7169189627365962372       -1\n",
       "240207  546955  11283289096796618043       -1\n",
       "\n",
       "[142662 rows x 3 columns]"
      ]
     },
     "execution_count": 26,
     "metadata": {},
     "output_type": "execute_result"
    }
   ],
   "source": [
    "df1"
   ]
  },
  {
   "cell_type": "code",
   "execution_count": 27,
   "metadata": {},
   "outputs": [],
   "source": [
    "df2 =df[df['cluster'] != -1]\n",
    "df2 = df2.drop_duplicates(subset=['cluster'])"
   ]
  },
  {
   "cell_type": "code",
   "execution_count": 28,
   "metadata": {},
   "outputs": [
    {
     "data": {
      "text/html": [
       "<div>\n",
       "<style scoped>\n",
       "    .dataframe tbody tr th:only-of-type {\n",
       "        vertical-align: middle;\n",
       "    }\n",
       "\n",
       "    .dataframe tbody tr th {\n",
       "        vertical-align: top;\n",
       "    }\n",
       "\n",
       "    .dataframe thead th {\n",
       "        text-align: right;\n",
       "    }\n",
       "</style>\n",
       "<table border=\"1\" class=\"dataframe\">\n",
       "  <thead>\n",
       "    <tr style=\"text-align: right;\">\n",
       "      <th></th>\n",
       "      <th>id</th>\n",
       "      <th>hash</th>\n",
       "      <th>cluster</th>\n",
       "    </tr>\n",
       "  </thead>\n",
       "  <tbody>\n",
       "    <tr>\n",
       "      <th>0</th>\n",
       "      <td>0</td>\n",
       "      <td>15424623954648911798</td>\n",
       "      <td>1595</td>\n",
       "    </tr>\n",
       "    <tr>\n",
       "      <th>3</th>\n",
       "      <td>6</td>\n",
       "      <td>15228315958781262961</td>\n",
       "      <td>5965</td>\n",
       "    </tr>\n",
       "    <tr>\n",
       "      <th>8</th>\n",
       "      <td>13</td>\n",
       "      <td>6273453593104339512</td>\n",
       "      <td>1623</td>\n",
       "    </tr>\n",
       "    <tr>\n",
       "      <th>17</th>\n",
       "      <td>26</td>\n",
       "      <td>1701739050321575793</td>\n",
       "      <td>2860</td>\n",
       "    </tr>\n",
       "    <tr>\n",
       "      <th>19</th>\n",
       "      <td>42</td>\n",
       "      <td>8537251302548419143</td>\n",
       "      <td>11464</td>\n",
       "    </tr>\n",
       "    <tr>\n",
       "      <th>...</th>\n",
       "      <td>...</td>\n",
       "      <td>...</td>\n",
       "      <td>...</td>\n",
       "    </tr>\n",
       "    <tr>\n",
       "      <th>185370</th>\n",
       "      <td>449508</td>\n",
       "      <td>8555246795086658050</td>\n",
       "      <td>4150</td>\n",
       "    </tr>\n",
       "    <tr>\n",
       "      <th>208116</th>\n",
       "      <td>493096</td>\n",
       "      <td>4839361334894710506</td>\n",
       "      <td>4118</td>\n",
       "    </tr>\n",
       "    <tr>\n",
       "      <th>208320</th>\n",
       "      <td>493300</td>\n",
       "      <td>14886905847063215394</td>\n",
       "      <td>2915</td>\n",
       "    </tr>\n",
       "    <tr>\n",
       "      <th>208480</th>\n",
       "      <td>493460</td>\n",
       "      <td>15467781001644730371</td>\n",
       "      <td>7715</td>\n",
       "    </tr>\n",
       "    <tr>\n",
       "      <th>208483</th>\n",
       "      <td>493463</td>\n",
       "      <td>16716730231723039831</td>\n",
       "      <td>10440</td>\n",
       "    </tr>\n",
       "  </tbody>\n",
       "</table>\n",
       "<p>13746 rows × 3 columns</p>\n",
       "</div>"
      ],
      "text/plain": [
       "            id                  hash  cluster\n",
       "0            0  15424623954648911798     1595\n",
       "3            6  15228315958781262961     5965\n",
       "8           13   6273453593104339512     1623\n",
       "17          26   1701739050321575793     2860\n",
       "19          42   8537251302548419143    11464\n",
       "...        ...                   ...      ...\n",
       "185370  449508   8555246795086658050     4150\n",
       "208116  493096   4839361334894710506     4118\n",
       "208320  493300  14886905847063215394     2915\n",
       "208480  493460  15467781001644730371     7715\n",
       "208483  493463  16716730231723039831    10440\n",
       "\n",
       "[13746 rows x 3 columns]"
      ]
     },
     "execution_count": 28,
     "metadata": {},
     "output_type": "execute_result"
    }
   ],
   "source": [
    "df2"
   ]
  },
  {
   "cell_type": "code",
   "execution_count": 29,
   "metadata": {},
   "outputs": [],
   "source": [
    "list_id_dedup = df1['id'].tolist()"
   ]
  },
  {
   "cell_type": "code",
   "execution_count": 30,
   "metadata": {},
   "outputs": [],
   "source": [
    "list_id_dedup.extend(df2['id'].tolist())"
   ]
  },
  {
   "cell_type": "code",
   "execution_count": 31,
   "metadata": {},
   "outputs": [
    {
     "data": {
      "application/json": {
       "ascii": false,
       "bar_format": null,
       "colour": null,
       "elapsed": 0.01351475715637207,
       "initial": 0,
       "n": 0,
       "ncols": null,
       "nrows": 23,
       "postfix": null,
       "prefix": "",
       "rate": null,
       "total": 241,
       "unit": "ba",
       "unit_divisor": 1000,
       "unit_scale": false
      },
      "application/vnd.jupyter.widget-view+json": {
       "model_id": "33961577bb174216ac3eba20d06deabf",
       "version_major": 2,
       "version_minor": 0
      },
      "text/plain": [
       "  0%|          | 0/241 [00:00<?, ?ba/s]"
      ]
     },
     "metadata": {},
     "output_type": "display_data"
    }
   ],
   "source": [
    "full_data2 = full_data1.filter(lambda ex: ex[\"id\"] in list_id_dedup)"
   ]
  },
  {
   "cell_type": "code",
   "execution_count": 32,
   "metadata": {},
   "outputs": [
    {
     "data": {
      "text/plain": [
       "Dataset({\n",
       "    features: ['category', 'name', 'brand', 'text', 'id'],\n",
       "    num_rows: 156408\n",
       "})"
      ]
     },
     "execution_count": 32,
     "metadata": {},
     "output_type": "execute_result"
    }
   ],
   "source": [
    "full_data2"
   ]
  },
  {
   "cell_type": "code",
   "execution_count": 33,
   "metadata": {},
   "outputs": [],
   "source": [
    "# !pip3 install langdetect"
   ]
  },
  {
   "cell_type": "code",
   "execution_count": 34,
   "metadata": {},
   "outputs": [
    {
     "ename": "ModuleNotFoundError",
     "evalue": "No module named 'langdetect'",
     "output_type": "error",
     "traceback": [
      "\u001b[0;31m---------------------------------------------------------------------------\u001b[0m",
      "\u001b[0;31mModuleNotFoundError\u001b[0m                       Traceback (most recent call last)",
      "Cell \u001b[0;32mIn [34], line 3\u001b[0m\n\u001b[1;32m      1\u001b[0m \u001b[38;5;28;01mimport\u001b[39;00m \u001b[38;5;21;01mmath\u001b[39;00m\n\u001b[1;32m      2\u001b[0m \u001b[38;5;28;01mimport\u001b[39;00m \u001b[38;5;21;01mre\u001b[39;00m\n\u001b[0;32m----> 3\u001b[0m \u001b[38;5;28;01mfrom\u001b[39;00m \u001b[38;5;21;01mlangdetect\u001b[39;00m \u001b[38;5;28;01mimport\u001b[39;00m detect\n",
      "\u001b[0;31mModuleNotFoundError\u001b[0m: No module named 'langdetect'"
     ]
    }
   ],
   "source": [
    "import math\n",
    "import re\n",
    "from langdetect import detect"
   ]
  },
  {
   "cell_type": "code",
   "execution_count": 35,
   "metadata": {},
   "outputs": [
    {
     "name": "stdout",
     "output_type": "stream",
     "text": [
      "err = 0.32278460583252794\n"
     ]
    }
   ],
   "source": [
    "re_norm_space = re.compile(' +')\n",
    "\n",
    "\n",
    "def add_to_list(l1, l2):\n",
    "    l = []\n",
    "    for x in l1:\n",
    "        for xx in l2:\n",
    "            l.append(x + xx)\n",
    "    return l\n",
    "\n",
    "\n",
    "def filter_non_vnese(s):\n",
    "    two = list(filter(lambda x: len(x) == 2, s))\n",
    "    three = list(set(s) - set(two))\n",
    "    new_three = []\n",
    "    for x1 in three:\n",
    "        flag = False\n",
    "        if len(x1) != 3: continue\n",
    "        for x2 in two:\n",
    "            if x2 in x1:\n",
    "                flag = True\n",
    "                break\n",
    "        if not flag:\n",
    "            new_three.append(x1)\n",
    "    return two + new_three\n",
    "\n",
    "\n",
    "def detect_non_vietnamese():\n",
    "    vowel = [u'a', u'e', u'i', u'o', u'u', u'y']\n",
    "    vowel2 = [u'a', u'e', u'i', u'o', u'y']\n",
    "    vowel3 = [u'y']\n",
    "    double_vowel = [w + w for w in vowel]\n",
    "    double_vowel = list(set(double_vowel) - set([u'uu']))\n",
    "    double_vowel2 = add_to_list(vowel3, vowel)\n",
    "    double_vowel2 = list(set(double_vowel2) - set([u'yy']))\n",
    "    consonant = [u'b', u'c', u'd', u'g', u'h', u'k', u'l', u'm', u'n', u'p', u'q',\n",
    "                 u'r', u's', u't', u'v', u'x']\n",
    "    consonant2 = [u'b', u'd', u'g', u'h', u'k', u'l', u'q', u'r', u's', u'v', u'x']\n",
    "    consotant3 = [u'm', u'p']\n",
    "    consonant4 = [u'p', u'q']\n",
    "    consonant5 = [u'b', u'c', u'd', u'g', u'n', u'r']\n",
    "    special_pattern = [u'ch', u'gh', u'kh', u'nh', u'ng', u'ph', u'th', u'tr']\n",
    "    special_pattern2 = [u'ae', u'ea', u'ei', u'ey', u'iy', u'oy', u'ya', u'yi', u'yo', u'yu']\n",
    "    special_pattern3 = [u'gh', u'kh', u'ph', u'th', u'tr']\n",
    "    special_pattern4 = [u'ge', u'gy', u'ka', u'ko', u'ku', u'ry']\n",
    "    english_chars = [u'f', u'j', u'w', u'z']\n",
    "    double_consonant = add_to_list(consonant, consonant)\n",
    "    double_consonant = list(set(double_consonant) - set(special_pattern))\n",
    "    non_vietnamese = double_vowel + double_consonant + add_to_list(vowel, consonant2)\n",
    "    non_vietnamese += consotant3 + special_pattern2 + add_to_list(vowel, special_pattern3)\n",
    "    non_vietnamese += add_to_list(vowel, add_to_list(consonant, vowel))\n",
    "    non_vietnamese += special_pattern4 + add_to_list(consonant4, vowel2) + \\\n",
    "                      add_to_list(consonant, double_vowel2) + add_to_list(consonant5, vowel3)\n",
    "    non_vietnamese = filter_non_vnese(set(non_vietnamese)) + english_chars\n",
    "    s = u'|'.join(non_vietnamese)\n",
    "    preposition_patterns = '( in | on | at | a |the |that | it )'\n",
    "    aggregate_patterns = '(\\w*(' + s + ')\\w*)' + u'|' + preposition_patterns\n",
    "\n",
    "    return re.compile(aggregate_patterns, flags=re.I)\n",
    "\n",
    "\n",
    "def count_english_word(text):\n",
    "    n_eng, words = 0, []\n",
    "    for w in text.split():\n",
    "        try:\n",
    "            if detect(w) != 'vi':\n",
    "                n_eng += 1\n",
    "            else:\n",
    "                words.append(w)\n",
    "        except:\n",
    "            words.append(w)\n",
    "    return n_eng, ' '.join(words)\n",
    "\n",
    "\n",
    "def count_word_len_one(text):\n",
    "    return len(list(filter(lambda w: len(w) < 2, text.split())))\n",
    "\n",
    "re_non_vnese = detect_non_vietnamese()\n",
    "def calc_error_rate(s):\n",
    "    n_eng, ss = count_english_word(s)\n",
    "    ss = re_non_vnese.sub('NON_VNESE', ss)\n",
    "    num_error_word = ss.count('NON_VNESE') + count_word_len_one(s)\n",
    "    return num_error_word/(len(s.split())+ 0.0001)\n",
    "\n",
    "\n",
    "if __name__ == '__main__':\n",
    "    s = '''bts áo thun tay lỡ nữ đẹp dễ thương bảng kích thước size xs 25 kg chiê u cao phu hơ p tư 1m1 đê n 1m3 size s 45 kg chiê u cao phu hơ p tư 1m5 đê n 1m6 size m 55 kg chiê u cao phu hơ p tư 1m5 đê n 1m65 size l 65 kg chiê u cao phu hơ p tư 1m5 đê n 1m7 size xl 70 kg chiê u cao phu hơ p tư 1m7 đê n 1m75 size xxl 70 kg chiê u cao phu hơ p tư 1m7 đê n 1m75 sản xuất việt nam kích thước xs s m l xl xxl đường may tinh tế sắc sảo dễ dàng phối trang phục , thích hợp đi chơi đi làm đi dạo phố thi ch hơ p cho sư kê t hơ p vư i quâ n jean, so t,legging áo thun trên công nghệ mới'''\n",
    "\n",
    "    print(f\"err = {calc_error_rate(s)}\")\n"
   ]
  },
  {
   "cell_type": "code",
   "execution_count": 36,
   "metadata": {},
   "outputs": [
    {
     "name": "stdout",
     "output_type": "stream",
     "text": [
      "61.8 µs ± 87.5 ns per loop (mean ± std. dev. of 7 runs, 10,000 loops each)\n"
     ]
    }
   ],
   "source": [
    "%timeit count_english_word(s)"
   ]
  },
  {
   "cell_type": "code",
   "execution_count": 37,
   "metadata": {},
   "outputs": [
    {
     "name": "stdout",
     "output_type": "stream",
     "text": [
      "                                           "
     ]
    },
    {
     "data": {
      "application/json": {
       "ascii": false,
       "bar_format": null,
       "colour": null,
       "elapsed": 0.02680492401123047,
       "initial": 0,
       "n": 0,
       "ncols": null,
       "nrows": 23,
       "postfix": null,
       "prefix": "#0",
       "rate": null,
       "total": 4,
       "unit": "ba",
       "unit_divisor": 1000,
       "unit_scale": false
      },
      "application/vnd.jupyter.widget-view+json": {
       "model_id": "740f04f2c41b4aa6a4c8d21308385f57",
       "version_major": 2,
       "version_minor": 0
      },
      "text/plain": [
       "#0:   0%|          | 0/4 [00:00<?, ?ba/s]"
      ]
     },
     "metadata": {},
     "output_type": "display_data"
    },
    {
     "data": {
      "application/json": {
       "ascii": false,
       "bar_format": null,
       "colour": null,
       "elapsed": 0.02724456787109375,
       "initial": 0,
       "n": 0,
       "ncols": null,
       "nrows": 23,
       "postfix": null,
       "prefix": "#1",
       "rate": null,
       "total": 4,
       "unit": "ba",
       "unit_divisor": 1000,
       "unit_scale": false
      },
      "application/vnd.jupyter.widget-view+json": {
       "model_id": "2fc5ffa2f8754e8eb5d7924f2c0afb93",
       "version_major": 2,
       "version_minor": 0
      },
      "text/plain": [
       "#1:   0%|          | 0/4 [00:00<?, ?ba/s]"
      ]
     },
     "metadata": {},
     "output_type": "display_data"
    },
    {
     "name": "stdout",
     "output_type": "stream",
     "text": [
      " "
     ]
    },
    {
     "data": {
      "application/json": {
       "ascii": false,
       "bar_format": null,
       "colour": null,
       "elapsed": 0.028270959854125977,
       "initial": 0,
       "n": 0,
       "ncols": null,
       "nrows": 23,
       "postfix": null,
       "prefix": "#2",
       "rate": null,
       "total": 4,
       "unit": "ba",
       "unit_divisor": 1000,
       "unit_scale": false
      },
      "application/vnd.jupyter.widget-view+json": {
       "model_id": "4e666932995047ba9b791592bbe3aca3",
       "version_major": 2,
       "version_minor": 0
      },
      "text/plain": [
       "#2:   0%|          | 0/4 [00:00<?, ?ba/s]"
      ]
     },
     "metadata": {},
     "output_type": "display_data"
    },
    {
     "name": "stdout",
     "output_type": "stream",
     "text": [
      "  "
     ]
    },
    {
     "data": {
      "application/json": {
       "ascii": false,
       "bar_format": null,
       "colour": null,
       "elapsed": 0.02913212776184082,
       "initial": 0,
       "n": 0,
       "ncols": null,
       "nrows": 23,
       "postfix": null,
       "prefix": "#3",
       "rate": null,
       "total": 4,
       "unit": "ba",
       "unit_divisor": 1000,
       "unit_scale": false
      },
      "application/vnd.jupyter.widget-view+json": {
       "model_id": "51350b5ae915464caffbc41ce98d2735",
       "version_major": 2,
       "version_minor": 0
      },
      "text/plain": [
       "#3:   0%|          | 0/4 [00:00<?, ?ba/s]"
      ]
     },
     "metadata": {},
     "output_type": "display_data"
    },
    {
     "data": {
      "application/json": {
       "ascii": false,
       "bar_format": null,
       "colour": null,
       "elapsed": 0.028699874877929688,
       "initial": 0,
       "n": 0,
       "ncols": null,
       "nrows": 23,
       "postfix": null,
       "prefix": "#4",
       "rate": null,
       "total": 4,
       "unit": "ba",
       "unit_divisor": 1000,
       "unit_scale": false
      },
      "application/vnd.jupyter.widget-view+json": {
       "model_id": "9ffe0cadf9f2419e803a02a838f505e8",
       "version_major": 2,
       "version_minor": 0
      },
      "text/plain": [
       "#4:   0%|          | 0/4 [00:00<?, ?ba/s]"
      ]
     },
     "metadata": {},
     "output_type": "display_data"
    },
    {
     "name": "stdout",
     "output_type": "stream",
     "text": [
      " "
     ]
    },
    {
     "data": {
      "application/json": {
       "ascii": false,
       "bar_format": null,
       "colour": null,
       "elapsed": 0.028794527053833008,
       "initial": 0,
       "n": 0,
       "ncols": null,
       "nrows": 23,
       "postfix": null,
       "prefix": "#5",
       "rate": null,
       "total": 4,
       "unit": "ba",
       "unit_divisor": 1000,
       "unit_scale": false
      },
      "application/vnd.jupyter.widget-view+json": {
       "model_id": "52c9be66bb3b4071ae7bc65ef0abe6d5",
       "version_major": 2,
       "version_minor": 0
      },
      "text/plain": [
       "#5:   0%|          | 0/4 [00:00<?, ?ba/s]"
      ]
     },
     "metadata": {},
     "output_type": "display_data"
    },
    {
     "name": "stdout",
     "output_type": "stream",
     "text": [
      "  "
     ]
    },
    {
     "data": {
      "application/json": {
       "ascii": false,
       "bar_format": null,
       "colour": null,
       "elapsed": 0.03688454627990723,
       "initial": 0,
       "n": 0,
       "ncols": null,
       "nrows": 23,
       "postfix": null,
       "prefix": "#6",
       "rate": null,
       "total": 4,
       "unit": "ba",
       "unit_divisor": 1000,
       "unit_scale": false
      },
      "application/vnd.jupyter.widget-view+json": {
       "model_id": "2276e61adcf94460ac191871802d1210",
       "version_major": 2,
       "version_minor": 0
      },
      "text/plain": [
       "#6:   0%|          | 0/4 [00:00<?, ?ba/s]"
      ]
     },
     "metadata": {},
     "output_type": "display_data"
    },
    {
     "data": {
      "application/json": {
       "ascii": false,
       "bar_format": null,
       "colour": null,
       "elapsed": 0.030854225158691406,
       "initial": 0,
       "n": 0,
       "ncols": null,
       "nrows": 23,
       "postfix": null,
       "prefix": "#7",
       "rate": null,
       "total": 4,
       "unit": "ba",
       "unit_divisor": 1000,
       "unit_scale": false
      },
      "application/vnd.jupyter.widget-view+json": {
       "model_id": "9e7319d0ce0a4a4dbf18fc0f5c71e1de",
       "version_major": 2,
       "version_minor": 0
      },
      "text/plain": [
       "#7:   0%|          | 0/4 [00:00<?, ?ba/s]"
      ]
     },
     "metadata": {},
     "output_type": "display_data"
    },
    {
     "name": "stdout",
     "output_type": "stream",
     "text": [
      " "
     ]
    },
    {
     "data": {
      "application/json": {
       "ascii": false,
       "bar_format": null,
       "colour": null,
       "elapsed": 0.028643131256103516,
       "initial": 0,
       "n": 0,
       "ncols": null,
       "nrows": 23,
       "postfix": null,
       "prefix": "#8",
       "rate": null,
       "total": 4,
       "unit": "ba",
       "unit_divisor": 1000,
       "unit_scale": false
      },
      "application/vnd.jupyter.widget-view+json": {
       "model_id": "2f7a9b9bc39c4fb2bec76facf70e9729",
       "version_major": 2,
       "version_minor": 0
      },
      "text/plain": [
       "#8:   0%|          | 0/4 [00:00<?, ?ba/s]"
      ]
     },
     "metadata": {},
     "output_type": "display_data"
    },
    {
     "name": "stdout",
     "output_type": "stream",
     "text": [
      " "
     ]
    },
    {
     "data": {
      "application/json": {
       "ascii": false,
       "bar_format": null,
       "colour": null,
       "elapsed": 0.028243303298950195,
       "initial": 0,
       "n": 0,
       "ncols": null,
       "nrows": 23,
       "postfix": null,
       "prefix": "#9",
       "rate": null,
       "total": 4,
       "unit": "ba",
       "unit_divisor": 1000,
       "unit_scale": false
      },
      "application/vnd.jupyter.widget-view+json": {
       "model_id": "b529b53c9abd4796817eb1db6d739b30",
       "version_major": 2,
       "version_minor": 0
      },
      "text/plain": [
       "#9:   0%|          | 0/4 [00:00<?, ?ba/s]"
      ]
     },
     "metadata": {},
     "output_type": "display_data"
    },
    {
     "name": "stdout",
     "output_type": "stream",
     "text": [
      " "
     ]
    },
    {
     "data": {
      "application/json": {
       "ascii": false,
       "bar_format": null,
       "colour": null,
       "elapsed": 0.02924633026123047,
       "initial": 0,
       "n": 0,
       "ncols": null,
       "nrows": 23,
       "postfix": null,
       "prefix": "#10",
       "rate": null,
       "total": 4,
       "unit": "ba",
       "unit_divisor": 1000,
       "unit_scale": false
      },
      "application/vnd.jupyter.widget-view+json": {
       "model_id": "7e8662e197324ddfac2543c7eb0be6f5",
       "version_major": 2,
       "version_minor": 0
      },
      "text/plain": [
       "#10:   0%|          | 0/4 [00:00<?, ?ba/s]"
      ]
     },
     "metadata": {},
     "output_type": "display_data"
    },
    {
     "name": "stdout",
     "output_type": "stream",
     "text": [
      " "
     ]
    },
    {
     "data": {
      "application/json": {
       "ascii": false,
       "bar_format": null,
       "colour": null,
       "elapsed": 0.029125452041625977,
       "initial": 0,
       "n": 0,
       "ncols": null,
       "nrows": 23,
       "postfix": null,
       "prefix": "#11",
       "rate": null,
       "total": 4,
       "unit": "ba",
       "unit_divisor": 1000,
       "unit_scale": false
      },
      "application/vnd.jupyter.widget-view+json": {
       "model_id": "924fb2dc6b07405c98de57b8eb060d49",
       "version_major": 2,
       "version_minor": 0
      },
      "text/plain": [
       "#11:   0%|          | 0/4 [00:00<?, ?ba/s]"
      ]
     },
     "metadata": {},
     "output_type": "display_data"
    },
    {
     "name": "stdout",
     "output_type": "stream",
     "text": [
      " "
     ]
    },
    {
     "data": {
      "application/json": {
       "ascii": false,
       "bar_format": null,
       "colour": null,
       "elapsed": 0.029108524322509766,
       "initial": 0,
       "n": 0,
       "ncols": null,
       "nrows": 23,
       "postfix": null,
       "prefix": "#12",
       "rate": null,
       "total": 4,
       "unit": "ba",
       "unit_divisor": 1000,
       "unit_scale": false
      },
      "application/vnd.jupyter.widget-view+json": {
       "model_id": "7e9dc15e725b41f4bf1f485c7e8f3b56",
       "version_major": 2,
       "version_minor": 0
      },
      "text/plain": [
       "#12:   0%|          | 0/4 [00:00<?, ?ba/s]"
      ]
     },
     "metadata": {},
     "output_type": "display_data"
    },
    {
     "name": "stdout",
     "output_type": "stream",
     "text": [
      "  "
     ]
    },
    {
     "data": {
      "application/json": {
       "ascii": false,
       "bar_format": null,
       "colour": null,
       "elapsed": 0.03962588310241699,
       "initial": 0,
       "n": 0,
       "ncols": null,
       "nrows": 23,
       "postfix": null,
       "prefix": "#13",
       "rate": null,
       "total": 4,
       "unit": "ba",
       "unit_divisor": 1000,
       "unit_scale": false
      },
      "application/vnd.jupyter.widget-view+json": {
       "model_id": "68c5d20c531141bbbd66111d9d8eb329",
       "version_major": 2,
       "version_minor": 0
      },
      "text/plain": [
       "#13:   0%|          | 0/4 [00:00<?, ?ba/s]"
      ]
     },
     "metadata": {},
     "output_type": "display_data"
    },
    {
     "data": {
      "application/json": {
       "ascii": false,
       "bar_format": null,
       "colour": null,
       "elapsed": 0.030110597610473633,
       "initial": 0,
       "n": 0,
       "ncols": null,
       "nrows": 23,
       "postfix": null,
       "prefix": "#14",
       "rate": null,
       "total": 4,
       "unit": "ba",
       "unit_divisor": 1000,
       "unit_scale": false
      },
      "application/vnd.jupyter.widget-view+json": {
       "model_id": "b7b4210bf9214ba99881f8776d79778a",
       "version_major": 2,
       "version_minor": 0
      },
      "text/plain": [
       "#14:   0%|          | 0/4 [00:00<?, ?ba/s]"
      ]
     },
     "metadata": {},
     "output_type": "display_data"
    },
    {
     "name": "stdout",
     "output_type": "stream",
     "text": [
      " "
     ]
    },
    {
     "data": {
      "application/json": {
       "ascii": false,
       "bar_format": null,
       "colour": null,
       "elapsed": 0.03614664077758789,
       "initial": 0,
       "n": 0,
       "ncols": null,
       "nrows": 23,
       "postfix": null,
       "prefix": "#15",
       "rate": null,
       "total": 4,
       "unit": "ba",
       "unit_divisor": 1000,
       "unit_scale": false
      },
      "application/vnd.jupyter.widget-view+json": {
       "model_id": "bd87aa1817cb45e3b550b5a663a097f9",
       "version_major": 2,
       "version_minor": 0
      },
      "text/plain": [
       "#15:   0%|          | 0/4 [00:00<?, ?ba/s]"
      ]
     },
     "metadata": {},
     "output_type": "display_data"
    },
    {
     "name": "stdout",
     "output_type": "stream",
     "text": [
      " "
     ]
    },
    {
     "data": {
      "application/json": {
       "ascii": false,
       "bar_format": null,
       "colour": null,
       "elapsed": 0.04050731658935547,
       "initial": 0,
       "n": 0,
       "ncols": null,
       "nrows": 23,
       "postfix": null,
       "prefix": "#16",
       "rate": null,
       "total": 4,
       "unit": "ba",
       "unit_divisor": 1000,
       "unit_scale": false
      },
      "application/vnd.jupyter.widget-view+json": {
       "model_id": "137494c2126b44ffa3e567cd005aad1a",
       "version_major": 2,
       "version_minor": 0
      },
      "text/plain": [
       "#16:   0%|          | 0/4 [00:00<?, ?ba/s]"
      ]
     },
     "metadata": {},
     "output_type": "display_data"
    },
    {
     "name": "stdout",
     "output_type": "stream",
     "text": [
      " "
     ]
    },
    {
     "data": {
      "application/json": {
       "ascii": false,
       "bar_format": null,
       "colour": null,
       "elapsed": 0.02905750274658203,
       "initial": 0,
       "n": 0,
       "ncols": null,
       "nrows": 23,
       "postfix": null,
       "prefix": "#17",
       "rate": null,
       "total": 4,
       "unit": "ba",
       "unit_divisor": 1000,
       "unit_scale": false
      },
      "application/vnd.jupyter.widget-view+json": {
       "model_id": "fdbca89cec474ee6a07b12cd967fac99",
       "version_major": 2,
       "version_minor": 0
      },
      "text/plain": [
       "#17:   0%|          | 0/4 [00:00<?, ?ba/s]"
      ]
     },
     "metadata": {},
     "output_type": "display_data"
    },
    {
     "name": "stdout",
     "output_type": "stream",
     "text": [
      " "
     ]
    },
    {
     "data": {
      "application/json": {
       "ascii": false,
       "bar_format": null,
       "colour": null,
       "elapsed": 0.028265953063964844,
       "initial": 0,
       "n": 0,
       "ncols": null,
       "nrows": 23,
       "postfix": null,
       "prefix": "#18",
       "rate": null,
       "total": 4,
       "unit": "ba",
       "unit_divisor": 1000,
       "unit_scale": false
      },
      "application/vnd.jupyter.widget-view+json": {
       "model_id": "2fd7b5fddeb740128ce45f5fd8e4e2c3",
       "version_major": 2,
       "version_minor": 0
      },
      "text/plain": [
       "#18:   0%|          | 0/4 [00:00<?, ?ba/s]"
      ]
     },
     "metadata": {},
     "output_type": "display_data"
    },
    {
     "name": "stdout",
     "output_type": "stream",
     "text": [
      " "
     ]
    },
    {
     "data": {
      "application/json": {
       "ascii": false,
       "bar_format": null,
       "colour": null,
       "elapsed": 0.038222312927246094,
       "initial": 0,
       "n": 0,
       "ncols": null,
       "nrows": 23,
       "postfix": null,
       "prefix": "#19",
       "rate": null,
       "total": 4,
       "unit": "ba",
       "unit_divisor": 1000,
       "unit_scale": false
      },
      "application/vnd.jupyter.widget-view+json": {
       "model_id": "4a71e7d048fc4b25859fe67d68a3b47f",
       "version_major": 2,
       "version_minor": 0
      },
      "text/plain": [
       "#19:   0%|          | 0/4 [00:00<?, ?ba/s]"
      ]
     },
     "metadata": {},
     "output_type": "display_data"
    },
    {
     "name": "stdout",
     "output_type": "stream",
     "text": [
      "  "
     ]
    },
    {
     "data": {
      "application/json": {
       "ascii": false,
       "bar_format": null,
       "colour": null,
       "elapsed": 0.027549028396606445,
       "initial": 0,
       "n": 0,
       "ncols": null,
       "nrows": 23,
       "postfix": null,
       "prefix": "#20",
       "rate": null,
       "total": 4,
       "unit": "ba",
       "unit_divisor": 1000,
       "unit_scale": false
      },
      "application/vnd.jupyter.widget-view+json": {
       "model_id": "6d05637d1b7f41ec9f4268023b4829a8",
       "version_major": 2,
       "version_minor": 0
      },
      "text/plain": [
       "#20:   0%|          | 0/4 [00:00<?, ?ba/s]"
      ]
     },
     "metadata": {},
     "output_type": "display_data"
    },
    {
     "name": "stdout",
     "output_type": "stream",
     "text": [
      "  "
     ]
    },
    {
     "data": {
      "application/json": {
       "ascii": false,
       "bar_format": null,
       "colour": null,
       "elapsed": 0.0416569709777832,
       "initial": 0,
       "n": 0,
       "ncols": null,
       "nrows": 23,
       "postfix": null,
       "prefix": "#22",
       "rate": null,
       "total": 4,
       "unit": "ba",
       "unit_divisor": 1000,
       "unit_scale": false
      },
      "application/vnd.jupyter.widget-view+json": {
       "model_id": "2347c6fef5014d3a8c81fd698ad7b773",
       "version_major": 2,
       "version_minor": 0
      },
      "text/plain": [
       "#22:   0%|          | 0/4 [00:00<?, ?ba/s]"
      ]
     },
     "metadata": {},
     "output_type": "display_data"
    },
    {
     "data": {
      "application/json": {
       "ascii": false,
       "bar_format": null,
       "colour": null,
       "elapsed": 0.044205427169799805,
       "initial": 0,
       "n": 0,
       "ncols": null,
       "nrows": 23,
       "postfix": null,
       "prefix": "#21",
       "rate": null,
       "total": 4,
       "unit": "ba",
       "unit_divisor": 1000,
       "unit_scale": false
      },
      "application/vnd.jupyter.widget-view+json": {
       "model_id": "348c4c92f3d84e1da62d4235f7ed4000",
       "version_major": 2,
       "version_minor": 0
      },
      "text/plain": [
       "#21:   0%|          | 0/4 [00:00<?, ?ba/s]"
      ]
     },
     "metadata": {},
     "output_type": "display_data"
    },
    {
     "data": {
      "application/json": {
       "ascii": false,
       "bar_format": null,
       "colour": null,
       "elapsed": 0.031205415725708008,
       "initial": 0,
       "n": 0,
       "ncols": null,
       "nrows": 23,
       "postfix": null,
       "prefix": "#23",
       "rate": null,
       "total": 4,
       "unit": "ba",
       "unit_divisor": 1000,
       "unit_scale": false
      },
      "application/vnd.jupyter.widget-view+json": {
       "model_id": "2530cf8533b6488e842f97fa7e005f3f",
       "version_major": 2,
       "version_minor": 0
      },
      "text/plain": [
       "#23:   0%|          | 0/4 [00:00<?, ?ba/s]"
      ]
     },
     "metadata": {},
     "output_type": "display_data"
    },
    {
     "name": "stdout",
     "output_type": "stream",
     "text": [
      " "
     ]
    },
    {
     "data": {
      "application/json": {
       "ascii": false,
       "bar_format": null,
       "colour": null,
       "elapsed": 0.02997565269470215,
       "initial": 0,
       "n": 0,
       "ncols": null,
       "nrows": 23,
       "postfix": null,
       "prefix": "#24",
       "rate": null,
       "total": 4,
       "unit": "ba",
       "unit_divisor": 1000,
       "unit_scale": false
      },
      "application/vnd.jupyter.widget-view+json": {
       "model_id": "06d722f173694a07a02326adda04e001",
       "version_major": 2,
       "version_minor": 0
      },
      "text/plain": [
       "#24:   0%|          | 0/4 [00:00<?, ?ba/s]"
      ]
     },
     "metadata": {},
     "output_type": "display_data"
    },
    {
     "name": "stdout",
     "output_type": "stream",
     "text": [
      " "
     ]
    },
    {
     "data": {
      "application/json": {
       "ascii": false,
       "bar_format": null,
       "colour": null,
       "elapsed": 0.030629873275756836,
       "initial": 0,
       "n": 0,
       "ncols": null,
       "nrows": 23,
       "postfix": null,
       "prefix": "#25",
       "rate": null,
       "total": 4,
       "unit": "ba",
       "unit_divisor": 1000,
       "unit_scale": false
      },
      "application/vnd.jupyter.widget-view+json": {
       "model_id": "2a19b2642cff49f792843257386b4a9d",
       "version_major": 2,
       "version_minor": 0
      },
      "text/plain": [
       "#25:   0%|          | 0/4 [00:00<?, ?ba/s]"
      ]
     },
     "metadata": {},
     "output_type": "display_data"
    },
    {
     "name": "stdout",
     "output_type": "stream",
     "text": [
      " "
     ]
    },
    {
     "data": {
      "application/json": {
       "ascii": false,
       "bar_format": null,
       "colour": null,
       "elapsed": 0.03640246391296387,
       "initial": 0,
       "n": 0,
       "ncols": null,
       "nrows": 23,
       "postfix": null,
       "prefix": "#26",
       "rate": null,
       "total": 4,
       "unit": "ba",
       "unit_divisor": 1000,
       "unit_scale": false
      },
      "application/vnd.jupyter.widget-view+json": {
       "model_id": "d082704249fd41a58b8c63147ec8420f",
       "version_major": 2,
       "version_minor": 0
      },
      "text/plain": [
       "#26:   0%|          | 0/4 [00:00<?, ?ba/s]"
      ]
     },
     "metadata": {},
     "output_type": "display_data"
    },
    {
     "name": "stdout",
     "output_type": "stream",
     "text": [
      " "
     ]
    },
    {
     "data": {
      "application/json": {
       "ascii": false,
       "bar_format": null,
       "colour": null,
       "elapsed": 0.0335233211517334,
       "initial": 0,
       "n": 0,
       "ncols": null,
       "nrows": 23,
       "postfix": null,
       "prefix": "#27",
       "rate": null,
       "total": 4,
       "unit": "ba",
       "unit_divisor": 1000,
       "unit_scale": false
      },
      "application/vnd.jupyter.widget-view+json": {
       "model_id": "7275b739877e4f12af7aa7df38f9f5e2",
       "version_major": 2,
       "version_minor": 0
      },
      "text/plain": [
       "#27:   0%|          | 0/4 [00:00<?, ?ba/s]"
      ]
     },
     "metadata": {},
     "output_type": "display_data"
    },
    {
     "name": "stdout",
     "output_type": "stream",
     "text": [
      " "
     ]
    },
    {
     "data": {
      "application/json": {
       "ascii": false,
       "bar_format": null,
       "colour": null,
       "elapsed": 0.02930927276611328,
       "initial": 0,
       "n": 0,
       "ncols": null,
       "nrows": 23,
       "postfix": null,
       "prefix": "#28",
       "rate": null,
       "total": 4,
       "unit": "ba",
       "unit_divisor": 1000,
       "unit_scale": false
      },
      "application/vnd.jupyter.widget-view+json": {
       "model_id": "8b933694f7444ab9a04c68af9ffb45e4",
       "version_major": 2,
       "version_minor": 0
      },
      "text/plain": [
       "#28:   0%|          | 0/4 [00:00<?, ?ba/s]"
      ]
     },
     "metadata": {},
     "output_type": "display_data"
    },
    {
     "name": "stdout",
     "output_type": "stream",
     "text": [
      " "
     ]
    },
    {
     "data": {
      "application/json": {
       "ascii": false,
       "bar_format": null,
       "colour": null,
       "elapsed": 0.028859853744506836,
       "initial": 0,
       "n": 0,
       "ncols": null,
       "nrows": 23,
       "postfix": null,
       "prefix": "#29",
       "rate": null,
       "total": 4,
       "unit": "ba",
       "unit_divisor": 1000,
       "unit_scale": false
      },
      "application/vnd.jupyter.widget-view+json": {
       "model_id": "ebed5479c34f417d94b8cbe08cb37303",
       "version_major": 2,
       "version_minor": 0
      },
      "text/plain": [
       "#29:   0%|          | 0/4 [00:00<?, ?ba/s]"
      ]
     },
     "metadata": {},
     "output_type": "display_data"
    },
    {
     "name": "stdout",
     "output_type": "stream",
     "text": [
      " "
     ]
    },
    {
     "data": {
      "application/json": {
       "ascii": false,
       "bar_format": null,
       "colour": null,
       "elapsed": 0.028952836990356445,
       "initial": 0,
       "n": 0,
       "ncols": null,
       "nrows": 23,
       "postfix": null,
       "prefix": "#30",
       "rate": null,
       "total": 4,
       "unit": "ba",
       "unit_divisor": 1000,
       "unit_scale": false
      },
      "application/vnd.jupyter.widget-view+json": {
       "model_id": "f59629be1c944619a8e7649fd462ddef",
       "version_major": 2,
       "version_minor": 0
      },
      "text/plain": [
       "#30:   0%|          | 0/4 [00:00<?, ?ba/s]"
      ]
     },
     "metadata": {},
     "output_type": "display_data"
    },
    {
     "name": "stdout",
     "output_type": "stream",
     "text": [
      " "
     ]
    },
    {
     "data": {
      "application/json": {
       "ascii": false,
       "bar_format": null,
       "colour": null,
       "elapsed": 0.03202056884765625,
       "initial": 0,
       "n": 0,
       "ncols": null,
       "nrows": 23,
       "postfix": null,
       "prefix": "#31",
       "rate": null,
       "total": 4,
       "unit": "ba",
       "unit_divisor": 1000,
       "unit_scale": false
      },
      "application/vnd.jupyter.widget-view+json": {
       "model_id": "1b0ab108bdc94f20b078b286236055d9",
       "version_major": 2,
       "version_minor": 0
      },
      "text/plain": [
       "#31:   0%|          | 0/4 [00:00<?, ?ba/s]"
      ]
     },
     "metadata": {},
     "output_type": "display_data"
    },
    {
     "name": "stdout",
     "output_type": "stream",
     "text": [
      " "
     ]
    },
    {
     "data": {
      "application/json": {
       "ascii": false,
       "bar_format": null,
       "colour": null,
       "elapsed": 0.029216527938842773,
       "initial": 0,
       "n": 0,
       "ncols": null,
       "nrows": 23,
       "postfix": null,
       "prefix": "#32",
       "rate": null,
       "total": 4,
       "unit": "ba",
       "unit_divisor": 1000,
       "unit_scale": false
      },
      "application/vnd.jupyter.widget-view+json": {
       "model_id": "941af03c10724914b2fabf7e6d0f8465",
       "version_major": 2,
       "version_minor": 0
      },
      "text/plain": [
       "#32:   0%|          | 0/4 [00:00<?, ?ba/s]"
      ]
     },
     "metadata": {},
     "output_type": "display_data"
    },
    {
     "name": "stdout",
     "output_type": "stream",
     "text": [
      " "
     ]
    },
    {
     "data": {
      "application/json": {
       "ascii": false,
       "bar_format": null,
       "colour": null,
       "elapsed": 0.02996063232421875,
       "initial": 0,
       "n": 0,
       "ncols": null,
       "nrows": 23,
       "postfix": null,
       "prefix": "#33",
       "rate": null,
       "total": 4,
       "unit": "ba",
       "unit_divisor": 1000,
       "unit_scale": false
      },
      "application/vnd.jupyter.widget-view+json": {
       "model_id": "ddc5e9b3633e41958e275a316e5ac3b4",
       "version_major": 2,
       "version_minor": 0
      },
      "text/plain": [
       "#33:   0%|          | 0/4 [00:00<?, ?ba/s]"
      ]
     },
     "metadata": {},
     "output_type": "display_data"
    },
    {
     "name": "stdout",
     "output_type": "stream",
     "text": [
      " "
     ]
    },
    {
     "data": {
      "application/json": {
       "ascii": false,
       "bar_format": null,
       "colour": null,
       "elapsed": 0.02993154525756836,
       "initial": 0,
       "n": 0,
       "ncols": null,
       "nrows": 23,
       "postfix": null,
       "prefix": "#34",
       "rate": null,
       "total": 4,
       "unit": "ba",
       "unit_divisor": 1000,
       "unit_scale": false
      },
      "application/vnd.jupyter.widget-view+json": {
       "model_id": "4e8245a111e642848fff227869eebd84",
       "version_major": 2,
       "version_minor": 0
      },
      "text/plain": [
       "#34:   0%|          | 0/4 [00:00<?, ?ba/s]"
      ]
     },
     "metadata": {},
     "output_type": "display_data"
    },
    {
     "name": "stdout",
     "output_type": "stream",
     "text": [
      " "
     ]
    },
    {
     "data": {
      "application/json": {
       "ascii": false,
       "bar_format": null,
       "colour": null,
       "elapsed": 0.0304107666015625,
       "initial": 0,
       "n": 0,
       "ncols": null,
       "nrows": 23,
       "postfix": null,
       "prefix": "#35",
       "rate": null,
       "total": 4,
       "unit": "ba",
       "unit_divisor": 1000,
       "unit_scale": false
      },
      "application/vnd.jupyter.widget-view+json": {
       "model_id": "96c2a395483a4785bab4a796f15532ea",
       "version_major": 2,
       "version_minor": 0
      },
      "text/plain": [
       "#35:   0%|          | 0/4 [00:00<?, ?ba/s]"
      ]
     },
     "metadata": {},
     "output_type": "display_data"
    },
    {
     "name": "stdout",
     "output_type": "stream",
     "text": [
      " "
     ]
    },
    {
     "data": {
      "application/json": {
       "ascii": false,
       "bar_format": null,
       "colour": null,
       "elapsed": 0.029918670654296875,
       "initial": 0,
       "n": 0,
       "ncols": null,
       "nrows": 23,
       "postfix": null,
       "prefix": "#36",
       "rate": null,
       "total": 4,
       "unit": "ba",
       "unit_divisor": 1000,
       "unit_scale": false
      },
      "application/vnd.jupyter.widget-view+json": {
       "model_id": "b26fba916cde4dae854d386e68ecf432",
       "version_major": 2,
       "version_minor": 0
      },
      "text/plain": [
       "#36:   0%|          | 0/4 [00:00<?, ?ba/s]"
      ]
     },
     "metadata": {},
     "output_type": "display_data"
    },
    {
     "name": "stdout",
     "output_type": "stream",
     "text": [
      " "
     ]
    },
    {
     "data": {
      "application/json": {
       "ascii": false,
       "bar_format": null,
       "colour": null,
       "elapsed": 0.03251004219055176,
       "initial": 0,
       "n": 0,
       "ncols": null,
       "nrows": 23,
       "postfix": null,
       "prefix": "#37",
       "rate": null,
       "total": 4,
       "unit": "ba",
       "unit_divisor": 1000,
       "unit_scale": false
      },
      "application/vnd.jupyter.widget-view+json": {
       "model_id": "c06aa188a6b3443cb0d1a4e5b37271bd",
       "version_major": 2,
       "version_minor": 0
      },
      "text/plain": [
       "#37:   0%|          | 0/4 [00:00<?, ?ba/s]"
      ]
     },
     "metadata": {},
     "output_type": "display_data"
    },
    {
     "name": "stdout",
     "output_type": "stream",
     "text": [
      " "
     ]
    },
    {
     "data": {
      "application/json": {
       "ascii": false,
       "bar_format": null,
       "colour": null,
       "elapsed": 0.03047013282775879,
       "initial": 0,
       "n": 0,
       "ncols": null,
       "nrows": 23,
       "postfix": null,
       "prefix": "#38",
       "rate": null,
       "total": 4,
       "unit": "ba",
       "unit_divisor": 1000,
       "unit_scale": false
      },
      "application/vnd.jupyter.widget-view+json": {
       "model_id": "d89165c250d74ea7bc4d6ebdb22ad48e",
       "version_major": 2,
       "version_minor": 0
      },
      "text/plain": [
       "#38:   0%|          | 0/4 [00:00<?, ?ba/s]"
      ]
     },
     "metadata": {},
     "output_type": "display_data"
    },
    {
     "data": {
      "application/json": {
       "ascii": false,
       "bar_format": null,
       "colour": null,
       "elapsed": 0.029189586639404297,
       "initial": 0,
       "n": 0,
       "ncols": null,
       "nrows": 23,
       "postfix": null,
       "prefix": "#39",
       "rate": null,
       "total": 4,
       "unit": "ba",
       "unit_divisor": 1000,
       "unit_scale": false
      },
      "application/vnd.jupyter.widget-view+json": {
       "model_id": "3187b7b082b6463db99cd92a58788134",
       "version_major": 2,
       "version_minor": 0
      },
      "text/plain": [
       "#39:   0%|          | 0/4 [00:00<?, ?ba/s]"
      ]
     },
     "metadata": {},
     "output_type": "display_data"
    },
    {
     "name": "stderr",
     "output_type": "stream",
     "text": [
      "https://symbolize.stripped_domain/r/?trace=7fed7d1063f4,7fed7d15a0bf,7f&map= \n",
      "*** SIGTERM received by PID 601926 (TID 601926) on cpu 59 from PID 522906; stack trace: ***\n",
      "https://symbolize.stripped_domain/r/?trace=5c18d8,7fed7d15a0bf,90e85f&map= \n",
      "*** SIGTERM received by PID 601949 (TID 601949) on cpu 37 from PID 522906; stack trace: ***\n",
      "https://symbolize.stripped_domain/r/?trace=5c71c9,7fed7d15a0bf,90eeff&map= \n",
      "*** SIGTERM received by PID 601939 (TID 601939) on cpu 3 from PID 522906; stack trace: ***\n",
      "PC: @     0x7fed7d1063f4  (unknown)  do_futex_wait.constprop.0\n",
      "    @     0x7feaf11ad1e0        976  (unknown)\n",
      "    @     0x7fed7d15a0c0  1645440144  (unknown)\n",
      "PC: @           0x5c18d8  (unknown)  PyObject_GetAttr\n",
      "    @     0x7feaf11ad1e0        976  (unknown)\n",
      "    @     0x7fed7d15a0c0  1647750336  (unknown)\n",
      "PC: @           0x5c71c9  (unknown)  (unknown)\n",
      "    @     0x7feaf11ad1e0        976  (unknown)\n",
      "    @     0x7fed7d15a0c0  (unknown)  (unknown)\n",
      "    @               0x80  (unknown)  (unknown)\n",
      "https://symbolize.stripped_domain/r/?trace=7fed7d1063f4,7feaf11ad1df,7fed7d15a0bf,7f&map=ca1b7ab241ee28147b3d590cadb5dc1b:7feae44ae000-7feaf14e0b20 \n",
      "E0913 08:53:27.875607  601926 coredump_hook.cc:250] RAW: Remote crash gathering disabled for SIGTERM.\n",
      "    @           0x90e860  (unknown)  (unknown)\n",
      "https://symbolize.stripped_domain/r/?trace=5c18d8,7feaf11ad1df,7fed7d15a0bf,90e85f&map=ca1b7ab241ee28147b3d590cadb5dc1b:7feae44ae000-7feaf14e0b20 \n",
      "E0913 08:53:27.875972  601949 coredump_hook.cc:250] RAW: Remote crash gathering disabled for SIGTERM.\n",
      "https://symbolize.stripped_domain/r/?trace=7feaf120b663,7fed7d15a0bf,7feaf10c4a3d,7feaf11bd1a6,7feaf11bb7de,7feaf11bb2c2,7feaf14dc54d,7feaf11addb9,7fed7d15a0bf,7f&map=ca1b7ab241ee28147b3d590cadb5dc1b:7feae44ae000-7feaf14e0b20 \n",
      "E0913 08:53:27.876050  601926 process_state.cc:1061] RAW: Signal 11 raised at PC: 0x7feaf120b663 while already in FailureSignalHandler!\n",
      "E0913 08:53:27.876063  601926 process_state.cc:1095] RAW: Raising 11 signal with default behavior\n",
      "https://symbolize.stripped_domain/r/?trace=7feaf120b663,7fed7d15a0bf,7feaf10c4a3d,7feaf11bd1a6,7feaf11bb7de,7feaf11bb2c2,7feaf14dc54d,7feaf11addb9,7fed7d15a0bf,90e85f&map=ca1b7ab241ee28147b3d590cadb5dc1b:7feae44ae000-7feaf14e0b20 \n",
      "E0913 08:53:27.876423  601949 process_state.cc:1061] RAW: Signal 11 raised at PC: 0x7feaf120b663 while already in FailureSignalHandler!\n",
      "E0913 08:53:27.876435  601949 process_state.cc:1095] RAW: Raising 11 signal with default behavior\n",
      "    @           0x90ef00  (unknown)  (unknown)\n",
      "https://symbolize.stripped_domain/r/?trace=5c71c9,7feaf11ad1df,7fed7d15a0bf,90eeff&map=ca1b7ab241ee28147b3d590cadb5dc1b:7feae44ae000-7feaf14e0b20 \n",
      "E0913 08:53:27.877222  601939 coredump_hook.cc:250] RAW: Remote crash gathering disabled for SIGTERM.\n",
      "https://symbolize.stripped_domain/r/?trace=7feaf120b663,7fed7d15a0bf,7feaf10c4a3d,7feaf11bd1a6,7feaf11bb7de,7feaf11bb2c2,7feaf14dc54d,7feaf11addb9,7fed7d15a0bf,90eeff&map=ca1b7ab241ee28147b3d590cadb5dc1b:7feae44ae000-7feaf14e0b20 \n",
      "E0913 08:53:27.877703  601939 process_state.cc:1061] RAW: Signal 11 raised at PC: 0x7feaf120b663 while already in FailureSignalHandler!\n",
      "E0913 08:53:27.877714  601939 process_state.cc:1095] RAW: Raising 11 signal with default behavior\n"
     ]
    }
   ],
   "source": [
    "full_data2 = full_data2.filter(lambda ex: calc_error_rate(ex[\"text\"]) < 0.1, num_proc = 40)"
   ]
  },
  {
   "cell_type": "code",
   "execution_count": 40,
   "metadata": {},
   "outputs": [
    {
     "data": {
      "text/plain": [
       "Dataset({\n",
       "    features: ['category', 'name', 'brand', 'text', 'id'],\n",
       "    num_rows: 85434\n",
       "})"
      ]
     },
     "execution_count": 40,
     "metadata": {},
     "output_type": "execute_result"
    }
   ],
   "source": [
    "full_data2"
   ]
  },
  {
   "cell_type": "code",
   "execution_count": 41,
   "metadata": {},
   "outputs": [
    {
     "data": {
      "application/json": {
       "ascii": false,
       "bar_format": null,
       "colour": null,
       "elapsed": 0.013653993606567383,
       "initial": 0,
       "n": 0,
       "ncols": null,
       "nrows": 23,
       "postfix": null,
       "prefix": "",
       "rate": null,
       "total": 86,
       "unit": "ba",
       "unit_divisor": 1000,
       "unit_scale": false
      },
      "application/vnd.jupyter.widget-view+json": {
       "model_id": "313d0f23d9974a1982e6d41d54ce9870",
       "version_major": 2,
       "version_minor": 0
      },
      "text/plain": [
       "  0%|          | 0/86 [00:00<?, ?ba/s]"
      ]
     },
     "metadata": {},
     "output_type": "display_data"
    }
   ],
   "source": [
    "full_data3 = full_data2.filter(lambda ex: len(ex[\"text\"].split()) < 700 )"
   ]
  },
  {
   "cell_type": "code",
   "execution_count": 42,
   "metadata": {},
   "outputs": [
    {
     "data": {
      "text/plain": [
       "Dataset({\n",
       "    features: ['category', 'name', 'brand', 'text', 'id'],\n",
       "    num_rows: 80173\n",
       "})"
      ]
     },
     "execution_count": 42,
     "metadata": {},
     "output_type": "execute_result"
    }
   ],
   "source": [
    "full_data3"
   ]
  },
  {
   "cell_type": "code",
   "execution_count": 43,
   "metadata": {},
   "outputs": [
    {
     "data": {
      "application/json": {
       "ascii": false,
       "bar_format": null,
       "colour": null,
       "elapsed": 0.014339447021484375,
       "initial": 0,
       "n": 0,
       "ncols": null,
       "nrows": 23,
       "postfix": null,
       "prefix": "Flattening the indices",
       "rate": null,
       "total": 81,
       "unit": "ba",
       "unit_divisor": 1000,
       "unit_scale": false
      },
      "application/vnd.jupyter.widget-view+json": {
       "model_id": "ca486eb3f7d4400da268954e6fa98831",
       "version_major": 2,
       "version_minor": 0
      },
      "text/plain": [
       "Flattening the indices:   0%|          | 0/81 [00:00<?, ?ba/s]"
      ]
     },
     "metadata": {},
     "output_type": "display_data"
    }
   ],
   "source": [
    "full_data3.save_to_disk(\"/home/thienchuaheadshot_gmail_com/spin_content/data_clean\")"
   ]
  },
  {
   "cell_type": "code",
   "execution_count": 44,
   "metadata": {},
   "outputs": [
    {
     "data": {
      "text/plain": [
       "{'category': 'Giày búp bê mũi tròn',\n",
       " 'name': 'GIẦY BÚP BÊ NỮ ALDO BRAYLYNN',\n",
       " 'brand': 'ALDO',\n",
       " 'text': 'thương hiệu thời trang aldo là hãng thời trang canada chuyên mang đến những thiết kế sang trọng và tinh tế về phụ kiện giầy dép và túi xách. aldo được phân phối độc quyền tại việt nam bởi công ty cổ phần nhà thái từ năm 2009. túi và phụ kiện aldo không có hộp và túi vải. cần hỗ trợ tư vấn, vui lòng inbox nhân viên cskh của aldo.',\n",
       " 'id': 0}"
      ]
     },
     "execution_count": 44,
     "metadata": {},
     "output_type": "execute_result"
    }
   ],
   "source": [
    "full_data3[0]"
   ]
  },
  {
   "cell_type": "code",
   "execution_count": null,
   "metadata": {},
   "outputs": [],
   "source": []
  }
 ],
 "metadata": {
  "kernelspec": {
   "display_name": "Python 3 (ipykernel)",
   "language": "python",
   "name": "python3"
  },
  "language_info": {
   "codemirror_mode": {
    "name": "ipython",
    "version": 3
   },
   "file_extension": ".py",
   "mimetype": "text/x-python",
   "name": "python",
   "nbconvert_exporter": "python",
   "pygments_lexer": "ipython3",
   "version": "3.8.10"
  }
 },
 "nbformat": 4,
 "nbformat_minor": 5
}
